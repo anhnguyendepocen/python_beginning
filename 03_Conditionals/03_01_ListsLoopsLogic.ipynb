{
 "nbformat": 4,
 "nbformat_minor": 2,
 "metadata": {
  "language_info": {
   "name": "python",
   "codemirror_mode": {
    "name": "ipython",
    "version": 3
   }
  },
  "orig_nbformat": 2,
  "file_extension": ".py",
  "mimetype": "text/x-python",
  "name": "python",
  "npconvert_exporter": "python",
  "pygments_lexer": "ipython3",
  "version": 3
 },
 "cells": [
  {
   "cell_type": "markdown",
   "metadata": {},
   "source": [
    "# IF... ...I had a million dollars!\n",
    "\n",
    "## Code Blocks\n",
    "* if statements identify a condition, and the code to execute if the condition is true\n",
    "* conditions use \"conditional operators\"\n",
    "Example:\n",
    "* `==`  : equality\n",
    "* `!=`  : not equal\n",
    "* `<`   : aligator eats the bigger \n",
    "* `>`   : Ditto\n",
    "* `>=`  : greater than or equal\n",
    "* `<=`  : less than or equal\n",
    "* is    : compares identity (are two variables pointing to the same thing)\n",
    "* not   : Add to an expression to get the inverse.\n",
    "* in    : Tests membership... Example is a letter in a word.\n",
    "\n",
    "* [difference between is and ==](http://net-informations.com/python/iq/is.htm)\n",
    "\n",
    "\n",
    "\n",
    "* if statement allows you to evalute conditions.\n",
    "* conditions use conditional operators.\n",
    "```\n",
    "var = 5\n",
    "if var == 5:\n",
    "    print(\"yep var is five\")\n",
    "```"
   ]
  },
  {
   "cell_type": "code",
   "execution_count": null,
   "metadata": {},
   "outputs": [],
   "source": [
    "# Add a if statement below so the print statement will only execute if `player` is equal to 'PK Subban'\n",
    "player = 'PK Subban'\n",
    "print(f\"the player is {player}\")\n"
   ]
  },
  {
   "cell_type": "markdown",
   "metadata": {},
   "source": [
    "# else\n",
    "\n",
    "* you can add else to an if statement to execute... for conditions that don't match if.\n",
    "\n",
    "### Example:\n",
    "\n",
    "```\n",
    "food = \"Hot Dog\"\n",
    "if food == \"Hot Dog\":\n",
    "    print(\"Hot Dog\")\n",
    "else:\n",
    "    print(\"Not hot dog\")\n",
    "```"
   ]
  },
  {
   "cell_type": "markdown",
   "metadata": {},
   "source": [
    "* else, elif etc\n",
    "* functions that return booleans\n",
    "* what is truth\n",
    "* introduce None data type\n",
    "\n"
   ]
  }
 ]
}