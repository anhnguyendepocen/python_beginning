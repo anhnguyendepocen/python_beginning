{
 "nbformat": 4,
 "nbformat_minor": 2,
 "metadata": {
  "language_info": {
   "name": "python",
   "codemirror_mode": {
    "name": "ipython",
    "version": 3
   },
   "version": "3.8.1-final"
  },
  "orig_nbformat": 2,
  "file_extension": ".py",
  "mimetype": "text/x-python",
  "name": "python",
  "npconvert_exporter": "python",
  "pygments_lexer": "ipython3",
  "version": 3,
  "kernelspec": {
   "name": "python38164bitvenvvirtualenv2dd323a5846c4f688b958d3ff1e1ec66",
   "display_name": "Python 3.8.1 64-bit ('venv': virtualenv)"
  }
 },
 "cells": [
  {
   "cell_type": "markdown",
   "metadata": {},
   "source": [
    "# Other Variable Types\n",
    "\n",
    "Python also has number and boolean type variables:"
   ]
  },
  {
   "cell_type": "code",
   "execution_count": null,
   "metadata": {},
   "outputs": [],
   "source": [
    "# Setting a number\n",
    "numberVar = 10\n",
    "# addition\n",
    "numberVar = numberVar + 2\n",
    "# division\n",
    "numberVar = numberVar / 2\n",
    "# multiplication\n",
    "numberVar = numberVar * 2\n",
    "# remainder / modulus\n",
    "numberVar = numberVar % 7\n"
   ]
  },
  {
   "cell_type": "markdown",
   "metadata": {},
   "source": [
    "## Types of Numbers\n",
    "\n",
    "Python has the following types of numbers:\n",
    "* int\n",
    "* float\n",
    "* complex (see docs if interested)\n",
    "\n",
    "[Python docs on numbers](https://docs.python.org/3/library/stdtypes.html?highlight=int%20float%20complex#numeric-types-int-float-complex)"
   ]
  },
  {
   "cell_type": "code",
   "execution_count": 10,
   "metadata": {},
   "outputs": [
    {
     "name": "stdout",
     "output_type": "stream",
     "text": "10.0\n2.8\n25\n25.0\nvarInt: 10 varFloat: 10.0\n"
    },
    {
     "ename": "NameError",
     "evalue": "name 'var' is not defined",
     "output_type": "error",
     "traceback": [
      "\u001b[1;31m---------------------------------------------------------------------------\u001b[0m",
      "\u001b[1;31mNameError\u001b[0m                                 Traceback (most recent call last)",
      "\u001b[1;32m<ipython-input-10-e25ff49db5d7>\u001b[0m in \u001b[0;36m<module>\u001b[1;34m\u001b[0m\n\u001b[0;32m     25\u001b[0m \u001b[1;31m# convert float to int\u001b[0m\u001b[1;33m\u001b[0m\u001b[1;33m\u001b[0m\u001b[1;33m\u001b[0m\u001b[0m\n\u001b[0;32m     26\u001b[0m \u001b[0mvarFloat\u001b[0m \u001b[1;33m=\u001b[0m \u001b[1;36m10.9\u001b[0m\u001b[1;33m\u001b[0m\u001b[1;33m\u001b[0m\u001b[0m\n\u001b[1;32m---> 27\u001b[1;33m \u001b[0mvarInt\u001b[0m \u001b[1;33m=\u001b[0m \u001b[0mint\u001b[0m\u001b[1;33m(\u001b[0m\u001b[0mvar\u001b[0m\u001b[1;33m)\u001b[0m\u001b[1;33m\u001b[0m\u001b[1;33m\u001b[0m\u001b[0m\n\u001b[0m\u001b[0;32m     28\u001b[0m \u001b[0mprint\u001b[0m\u001b[1;33m(\u001b[0m\u001b[1;34mf\"varFloat: {varFloat} varInt: {varInt}\"\u001b[0m\u001b[1;33m)\u001b[0m\u001b[1;33m\u001b[0m\u001b[1;33m\u001b[0m\u001b[0m\n\u001b[0;32m     29\u001b[0m \u001b[1;33m\u001b[0m\u001b[0m\n",
      "\u001b[1;31mNameError\u001b[0m: name 'var' is not defined"
     ]
    }
   ],
   "source": [
    "# define an int\n",
    "thisVarIsAnInt = 5\n",
    "\n",
    "# define a float\n",
    "floatNum = 5.0\n",
    "\n",
    "# you can do math regardless of type\n",
    "print(thisVarIsAnInt + floatNum)\n",
    "\n",
    "# math with two ints returns a float.  \n",
    "# This is different than how it worked in python2\n",
    "print(14 / 5)\n",
    "\n",
    "# two ints return int\n",
    "print(5*5)\n",
    "\n",
    "# by including a float in the operation will always return a float\n",
    "print(5*5.0)\n",
    "\n",
    "# convert int to float\n",
    "varInt = 10\n",
    "varFloat = float(10)\n",
    "print(f\"varInt: {varInt} varFloat: {varFloat}\")\n",
    "\n",
    "# convert float to int\n",
    "varFloat = 10.9\n",
    "varInt = int(var)\n",
    "print(f\"varFloat: {varFloat} varInt: {varInt}\")\n",
    "\n"
   ]
  },
  {
   "cell_type": "code",
   "execution_count": null,
   "metadata": {},
   "outputs": [],
   "source": []
  }
 ]
}