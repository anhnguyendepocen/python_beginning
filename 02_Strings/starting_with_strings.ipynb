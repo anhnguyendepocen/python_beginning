{
 "nbformat": 4,
 "nbformat_minor": 2,
 "metadata": {
  "language_info": {
   "name": "python",
   "codemirror_mode": {
    "name": "ipython",
    "version": 3
   },
   "version": "3.8.1-final"
  },
  "orig_nbformat": 2,
  "file_extension": ".py",
  "mimetype": "text/x-python",
  "name": "python",
  "npconvert_exporter": "python",
  "pygments_lexer": "ipython3",
  "version": 3,
  "kernelspec": {
   "name": "python38164bitvenvvirtualenv2dd323a5846c4f688b958d3ff1e1ec66",
   "display_name": "Python 3.8.1 64-bit ('venv': virtualenv)"
  }
 },
 "cells": [
  {
   "cell_type": "markdown",
   "execution_count": null,
   "metadata": {},
   "outputs": [],
   "source": [
    "## String Variables\n",
    "\n",
    "* Python knows it is dealing with a string variable by the ' or \" characters\n",
    "* they surround the text that makes up the string\n",
    "\n",
    "Example:"
   ]
  },
  {
   "cell_type": "code",
   "execution_count": 60,
   "metadata": {},
   "outputs": [],
   "source": [
    "stringVariable = 'string cause it has quotes'\n",
    "anotherVariable = \"double quotes work too\"\n",
    "includeQuotesInString = \"enclose single quotes: '' in double\"\n",
    "includeDoubleQuotesInString = 'put doubles in singles: \"\" POW'\n",
    "OverrideQuoteBehaviour = 'single quote \\' in a single quote defined string'\n"
   ]
  },
  {
   "cell_type": "markdown",
   "execution_count": null,
   "metadata": {},
   "outputs": [],
   "source": [
    "## `print` Statements\n",
    "Executing the code above doesn't really do anything.  To view the variables you have to print them.\n",
    "The print statement can be used to print the string representation of a variable.  For a string variable that is just the actual string.\n",
    "\n",
    "Syntax is:\n",
    "``` python\n",
    "print(variable)\n",
    "```\n",
    "or \n",
    "```python\n",
    "print(\"this is a string\")\n",
    "```"
   ]
  },
  {
   "cell_type": "code",
   "execution_count": 61,
   "metadata": {},
   "outputs": [
    {
     "name": "stdout",
     "output_type": "stream",
     "text": "I love Python, its so awesome!\n"
    }
   ],
   "source": [
    "thisIsAStringVar = \"I love Python, its so awesome!\"\n",
    "print(thisIsAStringVar)"
   ]
  },
  {
   "cell_type": "markdown",
   "execution_count": null,
   "metadata": {},
   "outputs": [],
   "source": [
    "## Comments\n",
    "\n",
    "Python has two types of comments:\n",
    "```\n",
    "\"\"\"\n",
    "This is a multiline python comment\n",
    "\"\"\"\n",
    "\n",
    "'''\n",
    "This is also a multiline comment\n",
    "'''\n",
    "\n",
    "# This is a single line comment, these can be used to disable lines of code\n",
    "```\n",
    "\n",
    "*Example:*\n",
    "```\n",
    "var = 'this is not commented out'\n",
    "#var2 = 'this line IS commented out'"
   ]
  },
  {
   "cell_type": "markdown",
   "metadata": {},
   "source": [
    "## Joining two Strings\n",
    "\n",
    "Strings can be joined together using the **+** operator.\n",
    "\n",
    "**Example:**\n",
    "```python\n",
    "var = 'string 1' + 'string 2'\n",
    "```\n",
    "\n",
    "makes the string: \n",
    "`string 1string2`\n",
    "\n",
    "if I want to add a space I could do it like this:"
   ]
  },
  {
   "cell_type": "code",
   "execution_count": 62,
   "metadata": {},
   "outputs": [
    {
     "name": "stdout",
     "output_type": "stream",
     "text": "newString is: string1 string2\n"
    }
   ],
   "source": [
    "newString = 'string1' + ' ' + 'string2'\n",
    "print('newString is: ' + newString)"
   ]
  },
  {
   "cell_type": "markdown",
   "metadata": {},
   "source": [
    "## f-strings\n",
    "\n",
    "* F-strings allow you to inject in a python expression into your string.  \n",
    "* When the string is evaluted the python expression is executed."
   ]
  },
  {
   "cell_type": "code",
   "execution_count": 63,
   "metadata": {},
   "outputs": [
    {
     "name": "stdout",
     "output_type": "stream",
     "text": "The greatest hockey team of all time: Montreal Canadians\n"
    }
   ],
   "source": [
    "myVar = 'Montreal Canadians'\n",
    "statement = f\"The greatest hockey team of all time: {myVar}\"\n",
    "print(statement)"
   ]
  },
  {
   "cell_type": "markdown",
   "metadata": {},
   "source": [
    "## Question: What's wrong?"
   ]
  },
  {
   "cell_type": "code",
   "execution_count": 64,
   "metadata": {},
   "outputs": [
    {
     "ename": "SyntaxError",
     "evalue": "EOL while scanning string literal (<ipython-input-64-175100d76b12>, line 3)",
     "output_type": "error",
     "traceback": [
      "\u001b[1;36m  File \u001b[1;32m\"<ipython-input-64-175100d76b12>\"\u001b[1;36m, line \u001b[1;32m3\u001b[0m\n\u001b[1;33m    var = 'Another variable going here\"\u001b[0m\n\u001b[1;37m                                       ^\u001b[0m\n\u001b[1;31mSyntaxError\u001b[0m\u001b[1;31m:\u001b[0m EOL while scanning string literal\n"
     ]
    }
   ],
   "source": [
    "var = 'some text in a variable'\n",
    "newVar = var + 'other text'\n",
    "var = 'Another variable going here\"\n",
    "print(\"the variable var is {var}\")\n"
   ]
  },
  {
   "cell_type": "markdown",
   "metadata": {},
   "source": [
    "## String Slicing\n",
    "\n",
    "* Slicing is used to refer to subsets of strings.\n",
    "* With slicing you refer to the subset by their positions in the string\n",
    "\n",
    "\n",
    "<img src=\"https://developers.google.com/edu/python/images/hello.png\" width=400>\n",
    "\n",
    "#\n",
    "Translated in python syntax:\n"
   ]
  },
  {
   "cell_type": "code",
   "execution_count": 68,
   "metadata": {},
   "outputs": [
    {
     "name": "stdout",
     "output_type": "stream",
     "text": "The first character in Hello is H\nThe character o in Hello is o\n"
    }
   ],
   "source": [
    "myVar = 'Hello'\n",
    "# Getting just the letter H\n",
    "myVar[0]\n",
    "# The character o\n",
    "myVar[4]\n",
    "# demo in print statement\n",
    "print(f'The first character in {myVar} is {myVar[0]}')\n",
    "print(f'The character o in {myVar} is {myVar[4]}')"
   ]
  },
  {
   "cell_type": "markdown",
   "metadata": {},
   "source": [
    "### Range or Slice Characters\n",
    "\n",
    "You can also define a range of string characters, for example `ell`\n"
   ]
  },
  {
   "cell_type": "code",
   "execution_count": null,
   "metadata": {},
   "outputs": [],
   "source": [
    "myVar = 'Hello'\n",
    "print(f\"slicing from position 1 up to but not including position 4 makes: {myVar[1:4]}\")"
   ]
  },
  {
   "cell_type": "code",
   "execution_count": 69,
   "metadata": {},
   "outputs": [
    {
     "name": "stdout",
     "output_type": "stream",
     "text": "Guy is his first name\nLafleur is his last name\nfirst two characters in last name: La\nLast character in the string: r\n"
    }
   ],
   "source": [
    "# and a few more examples:\n",
    "player = 'Guy Lafleur'\n",
    "\n",
    "print(f\"{player[0:3]} is his first name\")\n",
    "print(f\"{player[4:]} is his last name\")\n",
    "print(f\"first two characters in last name: {player[4:6]}\")\n",
    "print(f\"Last character in the string: {player[-1]}\")"
   ]
  },
  {
   "cell_type": "markdown",
   "metadata": {},
   "source": [
    "## `len()` length function\n",
    "\n",
    "* [len()](https://docs.python.org/3/library/functions.html#len) function is a python builtin method. \n",
    "* When used with a string it counts the number of characters\n",
    "* [All the builtins in python](https://docs.python.org/3/library/functions.html#built-in-functions)\n",
    "\n"
   ]
  },
  {
   "cell_type": "code",
   "execution_count": 71,
   "metadata": {},
   "outputs": [
    {
     "name": "stdout",
     "output_type": "stream",
     "text": "the total number of characters in the string Carey Price is 11\nthe total number of characters in the string Carey Price is 11\n"
    },
    {
     "ename": "TypeError",
     "evalue": "can only concatenate str (not \"int\") to str",
     "output_type": "error",
     "traceback": [
      "\u001b[1;31m---------------------------------------------------------------------------\u001b[0m",
      "\u001b[1;31mTypeError\u001b[0m                                 Traceback (most recent call last)",
      "\u001b[1;32m<ipython-input-71-7918ddd59d7a>\u001b[0m in \u001b[0;36m<module>\u001b[1;34m\u001b[0m\n\u001b[0;32m      8\u001b[0m \u001b[1;33m\u001b[0m\u001b[0m\n\u001b[0;32m      9\u001b[0m \u001b[1;31m# however you cant do the following\u001b[0m\u001b[1;33m\u001b[0m\u001b[1;33m\u001b[0m\u001b[1;33m\u001b[0m\u001b[0m\n\u001b[1;32m---> 10\u001b[1;33m \u001b[0mnewVar\u001b[0m \u001b[1;33m=\u001b[0m \u001b[0mplayer\u001b[0m \u001b[1;33m+\u001b[0m \u001b[1;34m\", total characters is: \"\u001b[0m \u001b[1;33m+\u001b[0m \u001b[0mlen\u001b[0m\u001b[1;33m(\u001b[0m\u001b[0mplayer\u001b[0m\u001b[1;33m)\u001b[0m\u001b[1;33m\u001b[0m\u001b[1;33m\u001b[0m\u001b[0m\n\u001b[0m",
      "\u001b[1;31mTypeError\u001b[0m: can only concatenate str (not \"int\") to str"
     ]
    }
   ],
   "source": [
    "# printing the total number or characters in a string:\n",
    "player = 'Carey Price'\n",
    "stringLength = len(player)\n",
    "print(f\"the total number of characters in the string {player} is {stringLength}\")\n",
    "\n",
    "# you could also say:\n",
    "print(f\"the total number of characters in the string {player} is {len(player)}\")\n",
    "\n",
    "# however you cant do the following!  Why not??  Guesses?\n",
    "newVar = player + \", total characters is: \" + len(player)"
   ]
  },
  {
   "cell_type": "markdown",
   "metadata": {},
   "source": [
    "## String Methods\n",
    "\n",
    "* A bunch of functions that are specific to string data types exist, aka string Methods\n",
    "* [All String Methods](https://docs.python.org/3/library/stdtypes.html#string-methods)\n",
    "\n"
   ]
  },
  {
   "cell_type": "code",
   "execution_count": 78,
   "metadata": {},
   "outputs": [
    {
     "name": "stdout",
     "output_type": "stream",
     "text": "Montreal is a good hockey team\nMontreal is a great hockey team\nDogs make amazing pets\nDOGS MAKE AMAZING PETS\nlowercase: dogs make amazing pets\n"
    }
   ],
   "source": [
    "# replace is a commonly used function\n",
    "statement = 'Boston is a good hockey team'\n",
    "\n",
    "# we can use replace to fix the statement above\n",
    "statement = statement.replace('Boston', 'Montreal')\n",
    "\n",
    "# and now its worthy of printing\n",
    "print(statement)\n",
    "\n",
    "# lets make it even better\n",
    "statement = statement.replace('good', 'great')\n",
    "print(statement)\n",
    "\n",
    "# you can nest functions also...\n",
    "statement = 'cats make great pets'\n",
    "# explain??\n",
    "statement = statement.replace('cats', 'dogs').replace('great', 'amazing').capitalize()\n",
    "print(statement)\n",
    "\n",
    "# make the string upper case \n",
    "print(f\"{statement.upper()}\")\n",
    "\n",
    "# all lower case\n",
    "statementLower = statement.lower()\n",
    "print(f'lowercase: {statementLower}')"
   ]
  },
  {
   "cell_type": "markdown",
   "metadata": {},
   "source": [
    "# Topics not covered\n",
    "* unicode strings\n",
    "* all the different types of string methods\n",
    "* %s string formatting\n",
    "\n",
    "\n"
   ]
  }
 ]
}