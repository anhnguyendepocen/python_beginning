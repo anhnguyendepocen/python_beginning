{
 "nbformat": 4,
 "nbformat_minor": 2,
 "metadata": {
  "language_info": {
   "name": "python",
   "codemirror_mode": {
    "name": "ipython",
    "version": 3
   },
   "version": "3.8.1-final"
  },
  "orig_nbformat": 2,
  "file_extension": ".py",
  "mimetype": "text/x-python",
  "name": "python",
  "npconvert_exporter": "python",
  "pygments_lexer": "ipython3",
  "version": 3,
  "kernelspec": {
   "name": "python38164bitvenvvirtualenv2dd323a5846c4f688b958d3ff1e1ec66",
   "display_name": "Python 3.8.1 64-bit ('venv': virtualenv)"
  }
 },
 "cells": [
  {
   "cell_type": "markdown",
   "execution_count": null,
   "metadata": {},
   "outputs": [],
   "source": [
    "# String Variables\n",
    "\n",
    "* Python knows it is dealing with a string variable by the ' or \" characters\n",
    "* they surround the text that makes up the string\n",
    "* strings are immutable.  They can't be changed once created.\n",
    "\n",
    "Example:\n",
    "\n",
    "``` python\n",
    "stringVariable = 'string cause it has quotes'\n",
    "anotherVariable = \"double quotes work too\"\n",
    "includeQuotesInString = \"enclose single quotes: '' in double\"\n",
    "includeDoubleQuotesInString = 'put doubles in singles: \"\" POW'\n",
    "OverrideQuoteBehaviour = 'single quote \\' in a single quote defined string'\n",
    "```\n",
    "\n",
    "### Now you do it:\n",
    "* create a variable called `player` and make it equal to `guy lafleur`\n"
   ]
  },
  {
   "cell_type": "code",
   "execution_count": null,
   "metadata": {},
   "outputs": [],
   "source": [
    "replace this text with your variable assignment"
   ]
  },
  {
   "cell_type": "markdown",
   "execution_count": null,
   "metadata": {},
   "outputs": [],
   "source": [
    "## `print` Statements\n",
    "Executing the code above doesn't really do anything.  To view the variables you have to print them.\n",
    "The print statement can be used to print the string representation of a variable.  For a string variable that is just the actual string.\n",
    "\n",
    "Syntax is:\n",
    "``` python\n",
    "print(variable)\n",
    "```\n",
    "or \n",
    "```python\n",
    "print(\"this is a string\")\n",
    "```"
   ]
  },
  {
   "cell_type": "code",
   "execution_count": null,
   "metadata": {},
   "outputs": [],
   "source": [
    "thisIsAStringVar = \"I love Python, its so awesome!\"\n",
    "print(thisIsAStringVar)\n",
    "\n",
    "# Add print statement here that prints out the value of the \n",
    "# variable we set above called player.\n"
   ]
  },
  {
   "cell_type": "markdown",
   "execution_count": null,
   "metadata": {},
   "outputs": [],
   "source": [
    "## Comments\n",
    "\n",
    "Python has two types of comments:\n",
    "```\n",
    "\"\"\"\n",
    "This is a multiline python comment\n",
    "\"\"\"\n",
    "\n",
    "'''\n",
    "This is also a multiline comment\n",
    "'''\n",
    "\n",
    "# This is a single line comment, these can be used to disable lines of code\n",
    "```\n",
    "\n",
    "*Example:*\n",
    "```\n",
    "var = 'this is not commented out'\n",
    "#var2 = 'this line IS commented out and will not be executed'\n",
    "```\n",
    "\n",
    "### you do it\n",
    "* comment out all the lines below using a multiline comment\n",
    "* add a single line comment saying why you commented out that code block"
   ]
  },
  {
   "cell_type": "code",
   "execution_count": null,
   "metadata": {},
   "outputs": [],
   "source": [
    "language = 'perl'\n",
    "description = 'the mother of all scripting languages'\n",
    "anotherVariable = 'blah blah black sheep...'"
   ]
  },
  {
   "cell_type": "markdown",
   "execution_count": null,
   "metadata": {},
   "outputs": [],
   "source": [
    "## Joining two Strings\n",
    "\n",
    "Strings can be joined together using the **+** operator.\n",
    "\n",
    "**Example:**\n",
    "```python\n",
    "var = 'string 1' + 'string 2'\n",
    "```\n",
    "\n",
    "makes the string: \n",
    "`string 1string2`\n",
    "\n",
    "if I want to add a space I could do it like this:\n",
    "\n",
    "``` python\n",
    "newString = 'string1' + ' ' + 'string2'\n",
    "print('newString is: ' + newString)\n",
    "```\n",
    "\n",
    "### you do it!\n",
    "* create a new variable called `player2` and make it equal to `Steve Shutt`\n",
    "* Join the variables `player` and  `player2` together\n"
   ]
  },
  {
   "cell_type": "code",
   "execution_count": null,
   "metadata": {},
   "outputs": [],
   "source": [
    "# create a variable called \"player2\" and make it equal to: Steve Shutt\n",
    "\n",
    "# join the two variables player and player2 together to create a new variable\n",
    "\n",
    "# join the two variables together in print statement\n",
    "\n",
    "# add a space in between the two variables\n",
    "\n",
    "# you can also join together two variables in a print statement \n",
    "# by delimiting (separating) them using a comma (,)\n",
    "# Use this technique to print the two variables player, and player2\n",
    "\n",
    "\n"
   ]
  },
  {
   "cell_type": "markdown",
   "execution_count": null,
   "metadata": {},
   "outputs": [],
   "source": [
    "## f-strings\n",
    "\n",
    "* F-strings allow you to inject in a python expression into your string.  \n",
    "* When the string is evaluted the python expression is executed.\n",
    "\n",
    "### Example: \n",
    "``` python\n",
    "myVar = 'Montreal Canadians'\n",
    "statement = f\"The greatest hockey team of all time: {myVar}\"\n",
    "print(statement)\n",
    "```"
   ]
  },
  {
   "cell_type": "code",
   "execution_count": null,
   "metadata": {},
   "outputs": [],
   "source": [
    "# create a new variable called \"team\" and make it equal to \n",
    "# 'Montreal Canadians'\n",
    "\n",
    "# create an f-string that combines the variable \"team\" with the text \"are the greatest\"\n",
    "\n",
    "# do the same thing above only in a print statement.\n",
    "\n"
   ]
  },
  {
   "cell_type": "markdown",
   "execution_count": null,
   "metadata": {},
   "outputs": [],
   "source": [
    "## Question: What's wrong?\n",
    "\n",
    "Fix the code below so that it runs, and does what its suppose to"
   ]
  },
  {
   "cell_type": "code",
   "execution_count": null,
   "metadata": {},
   "outputs": [],
   "source": [
    "var = 'some text in a variable'\n",
    "newVar = var + 'other text'\n",
    "var = 'Another variable going here\"\n",
    "print(\"the variable var is {var}\")\n"
   ]
  },
  {
   "cell_type": "markdown",
   "execution_count": null,
   "metadata": {},
   "outputs": [],
   "source": [
    "## String Slicing\n",
    "\n",
    "* Slicing is used to refer to subsets of strings.\n",
    "* With slicing you refer to the subset by their positions in the string\n",
    "* [more on slicing](https://developers.google.com/edu/python/strings#string-slices\n",
    ")\n",
    "* similar syntax is used for lists as well.\n",
    "\n",
    "<img src=\"https://developers.google.com/edu/python/images/hello.png\" width=400>\n",
    "\n",
    "#\n",
    "Translated in python syntax:\n",
    "\n",
    "``` python\n",
    "myVar = 'Hello'\n",
    "# Getting just the letter H\n",
    "myVar[0]\n",
    "# The character o\n",
    "myVar[4]\n",
    "# demo in print statement\n",
    "print(f'The first character in {myVar} is {myVar[0]}')\n",
    "print(f'The character o in {myVar} is {myVar[4]}')\n",
    "```\n"
   ]
  },
  {
   "cell_type": "markdown",
   "execution_count": null,
   "metadata": {},
   "outputs": [],
   "source": [
    "### Range or Slice Characters\n",
    "\n",
    "You can also define a range of string characters, for example `ell`\n"
   ]
  },
  {
   "cell_type": "code",
   "execution_count": null,
   "metadata": {},
   "outputs": [],
   "source": [
    "myVar = 'Hello'\n",
    "print(f\"slicing from position 1 up to but not including position 4 makes: {myVar[1:4]}\")"
   ]
  },
  {
   "cell_type": "code",
   "execution_count": null,
   "metadata": {},
   "outputs": [],
   "source": [
    "# and a few more examples:\n",
    "player = 'Guy Lafleur'\n",
    "\n",
    "print(f\"{player[0:3]} is his first name\")\n",
    "print(f\"{player[4:]} is his last name\")\n",
    "print(f\"first two characters in last name: {player[4:6]}\")\n",
    "print(f\"Last character in the string: {player[-1]}\")"
   ]
  },
  {
   "cell_type": "code",
   "execution_count": null,
   "metadata": {},
   "outputs": [],
   "source": [
    "songLine = \"its so nice not to be in Nanaimo\"\n",
    "\n",
    "# extract the first character in the line above\n",
    "\n",
    "# extract the word `nice` using string slicing\n",
    "\n",
    "# extract everything from the word nice forward\n",
    "\n",
    "# extract the last character\n"
   ]
  },
  {
   "cell_type": "markdown",
   "execution_count": null,
   "metadata": {},
   "outputs": [],
   "source": [
    "## `len()` length function\n",
    "\n",
    "* [len()](https://docs.python.org/3/library/functions.html#len) function is a python builtin method. \n",
    "* When used with a string it counts the number of characters\n",
    "* [All the builtins in python](https://docs.python.org/3/library/functions.html#built-in-functions)\n",
    "\n",
    "\n",
    "### Printing the total number or characters in a string:\n",
    "\n",
    "```python\n",
    "player = 'Carey Price'\n",
    "stringLength = len(player)\n",
    "print(f\"the total number of characters in the string {player} is {stringLength}\")\n",
    "```\n",
    "\n",
    "\n",
    "\n",
    "### You could also say:\n",
    "```\n",
    "print(f\"the total number of characters in the string {player} is {len(player)}\")\n",
    "```\n",
    "\n",
    "### however you cant do the following! \n",
    "* Why not??\n",
    "```\n",
    "newVar = player + \", total characters is: \" + len(player)\n",
    "```\n"
   ]
  },
  {
   "cell_type": "code",
   "execution_count": null,
   "metadata": {},
   "outputs": [],
   "source": [
    "# printing the total number or characters in a string:\n",
    "player = 'Carey Price'\n",
    "stringLength = len(player)\n",
    "print(f\"the total number of characters in the string {player} is {stringLength}\")\n",
    "\n",
    "# you could also say:\n",
    "print(f\"the total number of characters in the string {player} is {len(player)}\")\n",
    "\n",
    "# however you cant do the following!  Why not??  Guesses?\n",
    "newVar = player + \", total characters is: \" + len(player)"
   ]
  },
  {
   "cell_type": "code",
   "execution_count": null,
   "metadata": {},
   "outputs": [],
   "source": [
    "# print the total number of characters in the variable longString\n",
    "longString = '''\n",
    "NLdNfmp8zQGPblz5QC8K49uvc2nxlwDbctIsZpKdYFAfAGOZsPncIcQvGmGZNddBNhEVU8pDRSqBQOMRkTWT1ZrKR67YnrVqMrnMcxqx9RKGeG2l95pXIN50YzmyuM0lG4MqEESyPHCcT3QFybScWfYRHZupQI6um9pxAyiFCDwADKPrChD5r1FpvTW3Eko2XxOoJhAeHngK95Wq3YcBywWGsdKHeIiZEE3ggSJpJ9GFRQEDlhlE3gjvVBDH635vyoAxEoJt72gPzp8V\n",
    "'''\n"
   ]
  },
  {
   "cell_type": "markdown",
   "execution_count": null,
   "metadata": {},
   "outputs": [],
   "source": [
    "## String Methods\n",
    "\n",
    "* Actions that you can perform on or with Strings\n",
    "* [All String Methods](https://docs.python.org/3/library/stdtypes.html#string-methods)\n",
    "* strings are immutable... ... this means that many string methods will return a new string\n",
    "\n",
    "### replace is a commonly used function\n",
    "* using the 'replace' function to fix statement below\n",
    "\n",
    "```\n",
    "statement = 'Boston is a good hockey team'\n",
    "statement = statement.replace('Boston', 'Montreal')\n",
    "```\n",
    "\n",
    "### using replace to make the statement more accurate\n",
    "\n",
    "```\n",
    "statement = statement.replace('good', 'great')\n",
    "```\n",
    "\n",
    "### functions can be nested\n",
    "```\n",
    "statement = 'cats make great pets'\n",
    "statement = statement.replace('cats', 'dogs').replace('great', 'amazing').capitalize()\n",
    "```\n",
    "outputs `'Dogs make amazing pets'`\n",
    "\n",
    "### make the string upper case\n",
    "```\n",
    "print(f\"{statement.upper()}\")\n",
    "```\n",
    "outputs: DOGS MAKE AMAZING PETS\n",
    "\n",
    "### all lower case\n",
    "```\n",
    "statementLower = statement.lower()\n",
    "print(f'lowercase: {statementLower}')\n",
    "```\n",
    "outputs: dogs make amazing pets\n"
   ]
  },
  {
   "cell_type": "code",
   "execution_count": null,
   "metadata": {},
   "outputs": [],
   "source": [
    "# Capitalize the first letter in the string using the method capitalize\n",
    "greatTweets = 'windmills are the greatest threat in the us to both bald and golden eagles'\n",
    "\n",
    "# Capitalize the first character of ever word using the 'title' method\n"
   ]
  },
  {
   "cell_type": "markdown",
   "metadata": {},
   "source": [
    "## Delete a variable\n",
    "\n",
    "example:\n",
    "```\n",
    "player = 'Brad Marchant'\n",
    "# delete the variable player... nobody likes Brad!\n",
    "del player\n",
    "print(player)\n",
    "Traceback (most recent call last):\n",
    "  File \"<stdin>\", line 1, in <module>\n",
    "NameError: name 'player' is not defined\n",
    ">>>\n",
    "```\n",
    "\n",
    "<img src=\"https://www1.pictures.zimbio.com/gi/P+K+Subban+Boston+Bruins+v+Montreal+Canadiens+k-8luos4ehul.jpg\" width=300>"
   ]
  },
  {
   "cell_type": "markdown",
   "execution_count": null,
   "metadata": {},
   "outputs": [],
   "source": [
    "# Topics not covered\n",
    "* unicode strings\n",
    "* all the different types of string methods\n",
    "* %s string formatting\n",
    "\n",
    "\n"
   ]
  }
 ]
}