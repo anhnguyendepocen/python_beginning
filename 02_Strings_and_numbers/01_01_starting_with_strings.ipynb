{
 "nbformat": 4,
 "nbformat_minor": 2,
 "metadata": {
  "language_info": {
   "name": "python",
   "codemirror_mode": {
    "name": "ipython",
    "version": 3
   },
   "version": "3.8.1-final"
  },
  "orig_nbformat": 2,
  "file_extension": ".py",
  "mimetype": "text/x-python",
  "name": "python",
  "npconvert_exporter": "python",
  "pygments_lexer": "ipython3",
  "version": 3,
  "kernelspec": {
   "name": "python38164bitvenvvirtualenv2dd323a5846c4f688b958d3ff1e1ec66",
   "display_name": "Python 3.8.1 64-bit ('venv': virtualenv)"
  }
 },
 "cells": [
  {
   "cell_type": "markdown",
   "execution_count": null,
   "metadata": {},
   "outputs": [],
   "source": [
    "# String Variables\n",
    "<img src=\"https://cdn.hswstatic.com/gif/what-is-string-theory-1.jpg\" width=\"500\">\n",
    "\n",
    "* Ready to write some python!\n",
    "* The term String typically refers to a text\n",
    "* Creating a text variable.\n",
    "* String / Text variables are surrounded by quotes\n",
    "* Double or single doesn't matter\n",
    "\n",
    "\n",
    "\n",
    "Example:\n",
    "\n",
    "``` python\n",
    "stringVariable = 'string cause it has quotes'\n",
    "anotherVariable = \"double quotes work too\"\n",
    "includeQuotesInString = \"enclose single quotes: '' in double\"\n",
    "includeDoubleQuotesInString = 'put doubles in singles: \"\" POW'\n",
    "OverrideQuoteBehaviour = 'single quote \\' in a single quote defined string'\n",
    "```\n",
    "\n",
    "### Exerise:\n",
    "* create a variable called `player` and make it equal to `guy lafleur`\n"
   ]
  },
  {
   "cell_type": "code",
   "execution_count": 1,
   "metadata": {},
   "outputs": [],
   "source": [
    "player = 'guy lafleur'\n",
    "player2 = \"steve shutt\"\n"
   ]
  },
  {
   "cell_type": "markdown",
   "metadata": {},
   "source": [
    "## Special Characters in Strings\n",
    "\n",
    "<img src=\"https://i.imgur.com/c7EjBJ1.jpg\" width=\"500\">\n",
    "\n",
    "* some combinations of text characters in python have special meanings.\n",
    "* For example `\\t` represents a Tab\n",
    "* if you were creating a windows path like `c:\\temp` the `\\t` will get replaced with a tab\n",
    "\n",
    "### Escape Sequences\n",
    "\n",
    "The following table summarized all of the 'special' \\<char> \n",
    "\n",
    "| **escape sequence** | **meaning** |\n",
    "| :- | - |\n",
    "| ----------------- | ---------------------------------- |\n",
    "| \\newline | Backslash and newline ignored |\n",
    "| \\\\ | Backslash (\\) |\n",
    "| \\' | Single quote (') |\n",
    "| \\\" | Double quote (\") |\n",
    "| \\a | ASCII Bell (BEL) |\n",
    "| \\b | ASCII Backspace (BS) |\n",
    "| \\f | ASCII Formfeed (FF) |\n",
    "| \\n | ASCII Linefeed (LF) |\n",
    "| \\r | ASCII Carriage Return (CR) |\n",
    "| \\t | ASCII Horizontal Tab (TAB) |\n",
    "| \\v | ASCII Vertical Tab (VT) |\n",
    "| \\ooo | Character with octal value ooo (1,3) |\n",
    "| \\xhh | Character with hex value hh (2,3) |\n",
    "\n",
    "*\\n* and *\\* characters are the most commonly seen escape characters...\n",
    "\n",
    "* [official docs on escape seqence documentation for python 3](https://docs.python.org/3/reference/lexical_analysis.html#string-and-bytes-literals)\n",
    "\n",
    "### Example: carriage return in a string\n",
    "```\n",
    "myStrWithReturns = 'one fish\\ntwo fish\\nred fish\\nblue fish'\n",
    "print(myStrWithReturns)\n",
    "\n",
    ">>> one fish\n",
    ">>> two fish\n",
    ">>> red fish\n",
    ">>> blue fish\n",
    "```\n",
    "\n"
   ]
  },
  {
   "cell_type": "markdown",
   "metadata": {},
   "source": [
    "## Override Escape Sequences\n",
    "\n",
    "<img src=\"https://lh3.googleusercontent.com/1DKPrSNlCXdaOKH-2K8t3GNNglOPC4aGEuvboHlVfvCIT0AR_HSTsMbff795px2SHbvbKGeu4SQ4Oql3iGR_pnfHPOPp-Pq4p4Q9TQfKvvhrRPUVNtmn78u9xme1G3H6O5FRe0E4IHGmZeCuaq7ijepBnV-j4lvCpqGLDRovn7BxwWODVDH5bqr2d9JLthkD2nr8VZBTcX5ObbaRn8A64mXm-HSI5VKEoXc4luORbfsZjbJs0nUOlHAtOZkpTdR3H-0v8hMc2CZNrJiIlnUq8mIVB3KvCMCTNrLDyWeM0tl-R9yXNHP5KJYB93viSmNlrUQ37v6aKouRUZ3QSfil0MPrST3o5WiOJd7Qp0NCCS8U4Qt-wLgd6yuGaJP2ZeQeiDxMDgIdcO-LV3YksODWKpD5tYckURXVy9JbVsEfLNzph-VksNGDh5WJWpBXxU9rAFVQihAZ20KN9kjhB-JS4pqOy4yragd-Puo4PqQq5GCUb-khKNb8Ogk4iobF9BrN0UrZ4JbnZ6IPIZ5GJ18eEy8UyuxCQEL_DuKyDNJiL8B4QSezmkOmhXV_IjNCba6lsUdmUjHj4MRvz5R1eh1wyd1HAK5cvRZgG-MUCLCZDBhA1oMgQhE1hrd_U02_QHVPOtS9SpXeBXhMyojabmOK2m2UnhWeHO9CtsD3mNuTRIhV9M3Hq3l1D66_ln-vCYmET1cN_p8KOjRTX3f-QbXdvQ-10hyf3OUvoEpZ06DV5I4XWQqM=w1272-h954-no\" width=\"500\">\n",
    "\n",
    "* windows file paths use the `\\` character\n",
    "\n",
    "```\n",
    "myFilePath = 'c:\\training\\python\\lesson1'\n",
    "print(myFilePath) \n",
    "\n",
    ">>> c:      raining\\python\\lesson1\n",
    "```\n",
    "\n",
    "Why?\n",
    "\n",
    "* escape sequences can be overriden by adding an addtion \\ character.\n",
    "* first \\ character says ignore any special meaning associated with the next \\ character\n",
    "\n",
    "### example:\n",
    "```\n",
    "myFilePath = 'c:\\\\training\\\\python\\\\lesson1'\n",
    "print(myFilePath) \n",
    "\n",
    ">>> c:\\training\\python\\lesson1\n",
    "```\n",
    "\n",
    "### Exercise:\n",
    "* fix the windows path defined below\n",
    "\n"
   ]
  },
  {
   "cell_type": "code",
   "execution_count": 5,
   "metadata": {},
   "outputs": [
    {
     "ename": "SyntaxError",
     "evalue": "(unicode error) 'unicodeescape' codec can't decode bytes in position 2-3: truncated \\UXXXXXXXX escape (<ipython-input-5-54a36fd37ca7>, line 1)",
     "output_type": "error",
     "traceback": [
      "\u001b[1;36m  File \u001b[1;32m\"<ipython-input-5-54a36fd37ca7>\"\u001b[1;36m, line \u001b[1;32m1\u001b[0m\n\u001b[1;33m    myVar = 'c:\\Users\\tony\\norman\\roger'\u001b[0m\n\u001b[1;37m            ^\u001b[0m\n\u001b[1;31mSyntaxError\u001b[0m\u001b[1;31m:\u001b[0m (unicode error) 'unicodeescape' codec can't decode bytes in position 2-3: truncated \\UXXXXXXXX escape\n"
     ]
    }
   ],
   "source": [
    "\n",
    "\n"
   ]
  },
  {
   "cell_type": "markdown",
   "metadata": {},
   "source": [
    "## Raw Strings\n",
    "\n",
    "<img src=\"https://food.unl.edu/newsletters/images/meat%20%282%29.jpg\" width=\"500\">\n",
    "\n",
    "* raw strings are another way to ignore \\ character combinations\n",
    "* raw strings are a way of saying interpret \\ character literally\n",
    "* to define a raw string just prepend the `r` character in front of the string definition\n",
    "\n",
    "### Example:\n",
    "```\n",
    "myFilePath = r'c:\\training\\python\\lesson1'\n",
    "print(myFilePath)\n",
    "\n",
    ">>> c:\\training\\python\\lesson1\n",
    "```\n",
    "### FYI \n",
    "\n",
    "* [more docs on differences between python 2 and 3 strings](https://python-future.org/compatible_idioms.html#strings-and-bytes)\n",
    "\n",
    "### Exercise:"
   ]
  },
  {
   "cell_type": "code",
   "execution_count": null,
   "metadata": {},
   "outputs": [],
   "source": [
    "# create a variable called 'trainingPath' and set it to\n",
    "# the location of your training directory\n",
    "# if not on windows, use the path\n",
    "# C:\\training\\pythonTraining"
   ]
  },
  {
   "cell_type": "markdown",
   "execution_count": null,
   "metadata": {},
   "outputs": [],
   "source": [
    "## `print` Statements\n",
    "\n",
    "<img src=\"https://blogs.datalogics.com/wp-content/uploads/2017/07/Print.jpg\" width=\"500\">\n",
    "\n",
    "* we have already used print statement above\n",
    "* `print` is often used to understand what's going on in your code.\n",
    "\n",
    "### Print Syntax\n",
    "\n",
    "``` python\n",
    "print(variable)\n",
    "```\n",
    "\n",
    "or \n",
    "\n",
    "```python\n",
    "print(\"this is a string\")\n",
    "```\n",
    "\n",
    "### Print and `,`\n",
    "\n",
    "* comma operator will print a string representation of two variables with a space in betwen\n",
    "\n",
    "#### Warning around print operator\n",
    "* I'm not a fan of the `,` operator.  \n",
    "* Later on when you become python pro's you will transition to using logging instead of printing.\n",
    "* I will be easier to convert print statement to logging messages if you don't use the ',' operator\n",
    "\n",
    "\n",
    "\n",
    "### Exercise:"
   ]
  },
  {
   "cell_type": "code",
   "execution_count": 6,
   "metadata": {},
   "outputs": [
    {
     "name": "stdout",
     "output_type": "stream",
     "text": "I love Python, its so awesome!\nGuy Lafeur\n"
    }
   ],
   "source": [
    "thisIsAStringVar = \"I love Python, its so awesome!\"\n",
    "print(thisIsAStringVar)\n",
    "\n",
    "player = 'Guy Lafeur'\n",
    "# Add print statement here that prints out the value of the \n",
    "# variable we set above called player.\n",
    "print(player)\n"
   ]
  },
  {
   "cell_type": "markdown",
   "execution_count": null,
   "metadata": {},
   "outputs": [],
   "source": [
    "## Comments\n",
    "\n",
    "<img src=\"https://pluginicons.craft-cdn.com/commentscvQGFyYIVV53CsHK33dTFFHFFgXnYd9dm0OF.svg?mtime=20180825024530?1535165130\" width=\"150\">\n",
    "\n",
    "### Python has two types of comments\n",
    "* multiline \n",
    "* singleline\n",
    "\n",
    "### multiline comments\n",
    "```\n",
    "\"\"\"\n",
    "This is a multiline python comment\n",
    "\"\"\"\n",
    "\n",
    "'''\n",
    "This is also a multiline comment\n",
    "'''\n",
    "```\n",
    "### Single line comments\n",
    "```\n",
    "# This is a single line comment, these can be used to disable lines of code\n",
    "```\n",
    "\n",
    "*Example:*\n",
    "```\n",
    "var = 'this is not commented out'\n",
    "#var2 = 'this line IS commented out and will not be executed'\n",
    "```\n",
    "\n",
    "### Exercise\n",
    "* comment out all the lines below using a multiline comment\n",
    "* add a single line comment saying why you commented out that code block"
   ]
  },
  {
   "cell_type": "code",
   "execution_count": null,
   "metadata": {},
   "outputs": [],
   "source": [
    "'''\n",
    "language = 'perl'\n",
    "description = 'the mother of all scripting languages'\n",
    "anotherVariable = 'blah blah black sheep...'\n",
    "'''"
   ]
  },
  {
   "cell_type": "markdown",
   "execution_count": null,
   "metadata": {},
   "outputs": [],
   "source": [
    "## Joining two Strings\n",
    "\n",
    "<img src=\"https://qph.fs.quoracdn.net/main-qimg-b27ddc3f9bf9c661095253cc7fe2bd72\" width=\"500\">\n",
    "\n",
    "Strings can be joined together using the **+** operator.\n",
    "\n",
    "**Example:**\n",
    "```python\n",
    "var = 'string 1' + 'string 2'\n",
    "```\n",
    "\n",
    "makes the string: \n",
    "`string 1string2`\n",
    "\n",
    "if I want to add a space I could do it like this:\n",
    "\n",
    "``` python\n",
    "newString = 'string1' + ' ' + 'string2'\n",
    "print('newString is: ' + newString)\n",
    "```\n",
    "\n",
    "### Excercise\n",
    "* create a new variable called `player2` and make it equal to `Steve Shutt`\n",
    "* Join the variables `player` and  `player2` together\n"
   ]
  },
  {
   "cell_type": "code",
   "execution_count": null,
   "metadata": {},
   "outputs": [],
   "source": [
    "# create a variable called \"player\" and make it equal to: 'Guy Lafleur'\n",
    "\n",
    "# create a variable called \"player2\" and make it equal to: 'Steve Shutt'\n",
    "\n",
    "# join the two variables player and player2 together to create a new variable\n",
    "\n",
    "# join the two variables together in print statement\n",
    "\n",
    "# add a space in between the two variables\n",
    "\n",
    "# you can also join together two variables in a print statement \n",
    "# by delimiting (separating) them using a comma (,)\n",
    "# Use this technique to print the two variables player, and player2\n"
   ]
  },
  {
   "cell_type": "markdown",
   "execution_count": null,
   "metadata": {},
   "outputs": [],
   "source": [
    "## f-strings\n",
    "\n",
    "<img src=\"https://www.wikihow.com/images/thumb/6/61/Play-the-F-Chord-on-Guitar-Step-1-Version-6.jpg/aid1179333-v4-728px-Play-the-F-Chord-on-Guitar-Step-1-Version-6.jpg.webp\" width=\"500\">\n",
    "\n",
    "* F-strings allow you to inject in a python expression into your string.  \n",
    "* When the string is evaluted the python expression is executed.\n",
    "* F-strings are a fantastic new feature introduced in Python 3.6\n",
    "\n",
    "### Example: \n",
    "``` python\n",
    "myVar = 'Montreal Canadians'\n",
    "statement = f\"The greatest hockey team of all time: {myVar}\"\n",
    "print(statement)\n",
    "```\n",
    "\n",
    "### Exercise:"
   ]
  },
  {
   "cell_type": "code",
   "execution_count": 7,
   "metadata": {},
   "outputs": [
    {
     "name": "stdout",
     "output_type": "stream",
     "text": "Montreal Canadians are the greatest\nMontreal Canadians are the greatest\n"
    }
   ],
   "source": [
    "# create a new variable called \"team\" and make it equal to \n",
    "# 'Montreal Canadians'\n",
    "team = 'Montreal Canadians'\n",
    "\n",
    "# create an f-string that combines the variable \"team\" with the text \"are the greatest\"\n",
    "statement = f\"{team} are the greatest\"\n",
    "\n",
    "# do the same thing above only in a print statement.\n",
    "print(statement)\n",
    "print(f\"{team} are the greatest\")\n"
   ]
  },
  {
   "cell_type": "markdown",
   "execution_count": null,
   "metadata": {},
   "outputs": [],
   "source": [
    "## Question: What's wrong?\n",
    "\n",
    "Fix the code below so that it runs, and does what its suppose to\n",
    "\n",
    "### Exercise"
   ]
  },
  {
   "cell_type": "code",
   "execution_count": 8,
   "metadata": {},
   "outputs": [
    {
     "name": "stdout",
     "output_type": "stream",
     "text": "the variable var is Another variable going here\n"
    }
   ],
   "source": [
    "var = 'some text in a variable'\n",
    "newVar = var + 'other text'\n",
    "var = 'Another variable going here'\n",
    "print(f\"the variable var is {var}\")\n"
   ]
  },
  {
   "cell_type": "markdown",
   "execution_count": null,
   "metadata": {},
   "outputs": [],
   "source": [
    "## String Slicing\n",
    "\n",
    "<img src=\"https://api.time.com/wp-content/uploads/2015/07/bread.jpeg?w=600&quality=85\" width=\"500\">\n",
    "\n",
    "* Slicing is used to refer to subsets of strings.\n",
    "* With slicing you refer to the subset by their positions in the string\n",
    "* [more on slicing](https://developers.google.com/edu/python/strings#string-slices\n",
    ")\n",
    "* similar syntax is used for lists as well.\n",
    "\n",
    "<img src=\"https://developers.google.com/edu/python/images/hello.png\" width=\"400\">\n",
    "\n",
    "#\n",
    "Translated in python syntax:\n",
    "\n",
    "``` python\n",
    "myVar = 'Hello'\n",
    "\n",
    "# Getting just the letter H\n",
    "myVar[0]\n",
    "\n",
    "# The character o\n",
    "myVar[4]\n",
    "\n",
    "# demo in print statement\n",
    "print(f'The first character in {myVar} is {myVar[0]}')\n",
    "print(f'The character o in {myVar} is {myVar[4]}')\n",
    "```\n"
   ]
  },
  {
   "cell_type": "markdown",
   "execution_count": null,
   "metadata": {},
   "outputs": [],
   "source": [
    "### Range or Slice Characters\n",
    "\n",
    "* You can also define a range of string Characters\n",
    "* Get all characters inbetween a start positon and an end position.\n"
   ]
  },
  {
   "cell_type": "code",
   "execution_count": null,
   "metadata": {},
   "outputs": [],
   "source": [
    "myVar = 'Hello'\n",
    "print(f\"slicing from position 1 up to but not including position 4 makes: {myVar[1:4]}\")"
   ]
  },
  {
   "cell_type": "code",
   "execution_count": null,
   "metadata": {},
   "outputs": [],
   "source": [
    "# and a few more examples:\n",
    "player = 'Guy Lafleur'\n",
    "\n",
    "print(f\"{player[0:3]} is his first name\")\n",
    "print(f\"{player[4:]} is his last name\")\n",
    "print(f\"first two characters in last name: {player[4:6]}\")\n",
    "print(f\"Last character in the string: {player[-1]}\")"
   ]
  },
  {
   "cell_type": "code",
   "execution_count": 9,
   "metadata": {},
   "outputs": [
    {
     "name": "stdout",
     "output_type": "stream",
     "text": "the char isnice\n"
    }
   ],
   "source": [
    "songLine = \"its so nice not to be in Nanaimo\"\n",
    "\n",
    "# extract the first character in the line above\n",
    "char = songLine[0]\n",
    "\n",
    "# extract the word `nice` using string slicing\n",
    "char = songLine[7:11]\n",
    "print(f\"the char is {char}\")\n",
    "\n",
    "# extract everything from the word nice forward\n",
    "char = songLine[7:]\n",
    "\n",
    "\n",
    "# extract the last character\n",
    "char = songLine[-1]\n",
    "\n"
   ]
  },
  {
   "cell_type": "markdown",
   "execution_count": null,
   "metadata": {},
   "outputs": [],
   "source": [
    "## `len()` length function\n",
    "\n",
    "<img src=\"https://chandler4corners.com/media/image/732/so-long-dachshund.jpg?size=250\" width=\"500\">\n",
    "\n",
    "* [len()](https://docs.python.org/3/library/functions.html#len) function is a python builtin method. \n",
    "* When used with a string it counts the number of characters\n",
    "* [All the builtins in python](https://docs.python.org/3/library/functions.html#built-in-functions)\n",
    "\n",
    "\n",
    "### Printing the total number or characters in a string:\n",
    "\n",
    "```python\n",
    "player = 'Carey Price'\n",
    "stringLength = len(player)\n",
    "print(f\"the total number of characters in the string {player} is {stringLength}\")\n",
    "```\n",
    "\n",
    "\n",
    "\n",
    "### You could also say:\n",
    "```\n",
    "print(f\"the total number of characters in the string {player} is {len(player)}\")\n",
    "```\n",
    "\n",
    "### however you cant do the following! \n",
    "* Why not??\n",
    "```\n",
    "newVar = player + \", total characters is: \" + len(player)\n",
    "```\n"
   ]
  },
  {
   "cell_type": "code",
   "execution_count": null,
   "metadata": {},
   "outputs": [],
   "source": [
    "# printing the total number or characters in a string:\n",
    "player = 'Carey Price'\n",
    "stringLength = len(player)\n",
    "print(f\"the total number of characters in the string {player} is {stringLength}\")\n",
    "\n",
    "# you could also say:\n",
    "print(f\"the total number of characters in the string {player} is {len(player)}\")\n",
    "\n",
    "# however you cant do the following!  Why not??  Guesses?\n",
    "newVar = player + \", total characters is: \" + len(player)"
   ]
  },
  {
   "cell_type": "code",
   "execution_count": null,
   "metadata": {},
   "outputs": [],
   "source": [
    "# print the total number of characters in the variable longString\n",
    "longString = '''\n",
    "NLdNfmp8zQGPblz5QC8K49uvc2nxlwDbctIsZpKdYFAfAGOZsPncIcQvGmGZNddBNhEVU8pDRSqBQOMRkTWT1ZrKR67YnrVqMrnMcxqx9RKGeG2l95pXIN50YzmyuM0lG4MqEESyPHCcT3QFybScWfYRHZupQI6um9pxAyiFCDwADKPrChD5r1FpvTW3Eko2XxOoJhAeHngK95Wq3YcBywWGsdKHeIiZEE3ggSJpJ9GFRQEDlhlE3gjvVBDH635vyoAxEoJt72gPzp8V\n",
    "'''\n"
   ]
  },
  {
   "cell_type": "markdown",
   "execution_count": null,
   "metadata": {},
   "outputs": [],
   "source": [
    "## String Methods\n",
    "\n",
    "<img src=\"https://lh3.googleusercontent.com/bKAaLM2Nii1QtNrHrGqhj1V6G-6aB5lL-S3IJlDRIgauYcu83WCC4FMSccjf0d_PFMyMAdWZNME2cgI1PuMD4VF4Fw2HJBne3hrCvL5gtmp71274mS2M2bn2AAe4rs8TR7f_GsZqRzf4mBoRpaVbm8gm0gk0cv5qWhXhQSzqFajOrKI_NnBb-heuJFyV5-7IgfG7g0QOjTH-X-mRFes0yg3w9srDGDcDu1CTma5OJTbRDIvhVgj-Q7Cve6_jlF7UNLkzLAYxlfgnGxqufzrvh8I4KIS9GuEif49GqjOHjP8TKmotd2XE1AFsix9J_MeF_A_Dx_5c3zTvSILiOpRZOiQOKUWusw2QVYvN_FwVusH7omEgYwzPPah2p6-L6gfL6-nfc-36FWr_bD7lPgIqJLTBu7EV2A-Spyy14bPBW2uyGZdAGJa96h88gdgngrb01cUYkiZMvLCy7EPf3WT70bAqfBq1vig28cfQcg-nD6WA6J1slDNYZzAHer_46xHiIt4onW-ySL_E0R2cvVzL2eWAGZgBWqXHtOw8YXp5k3zJySz0X4DZiiVNqj0l15HBG9oNSm8YzOGnYnOR2kZs4fxZCwO26Hn8-opKqEtBeM7mfc6hcZX2P4JICJjCcYOpStdZkLMK71XAOB4JrYzAE-YKLaRE11jjEFKu5PdO7RjjFzO3WjLPgDuZCPS8Va9DS7seuh4UoeEHBA65WT7QwPNzNmwsa3FNIMAQYwbiP3x4ELkM=w1272-h954-no\" width=\"500\">\n",
    "\n",
    "* Actions that you can perform on or with Strings\n",
    "* [All String Methods](https://docs.python.org/3/library/stdtypes.html#string-methods)\n",
    "* strings are immutable... ... this means that many string methods will return a new string\n",
    "\n",
    "### replace is a commonly used function\n",
    "* using the 'replace' function to fix statement below\n",
    "\n",
    "```\n",
    "statement = 'Boston is a good hockey team'\n",
    "statement = statement.replace('Boston', 'Montreal')\n",
    "```\n",
    "\n",
    "### using replace to make the statement more accurate\n",
    "\n",
    "```\n",
    "statement = statement.replace('good', 'great')\n",
    "```\n",
    "\n",
    "### functions can be nested\n",
    "```\n",
    "statement = 'cats make great pets'\n",
    "statement = statement.replace('cats', 'dogs').replace('great', 'amazing').capitalize()\n",
    "```\n",
    "outputs `'Dogs make amazing pets'`\n",
    "\n",
    "### make the string upper case\n",
    "```\n",
    "print(f\"{statement.upper()}\")\n",
    "```\n",
    "outputs: DOGS MAKE AMAZING PETS\n",
    "\n",
    "### all lower case\n",
    "```\n",
    "statementLower = statement.lower()\n",
    "print(f'lowercase: {statementLower}')\n",
    "```\n",
    "outputs: dogs make amazing pets\n",
    "\n",
    "### remove leading / trailing whitespace `strip()`\n",
    "```\n",
    "variableWithCarriageReturn = 'this line has a return at the end\\n'\n",
    "removedReturn =  variableWithCarriageReturn.strip()\n",
    "print(removedReturn)\n",
    "\n",
    ">>>this line has a return at the end\n",
    "```\n",
    "\n",
    "## Exercise"
   ]
  },
  {
   "cell_type": "code",
   "execution_count": 11,
   "metadata": {},
   "outputs": [
    {
     "name": "stdout",
     "output_type": "stream",
     "text": "Windmills are the greatest threat in the us to both bald and golden eagles\n"
    }
   ],
   "source": [
    "# Capitalize the first letter in the string using the method capitalize\n",
    "greatTweets = '  windmills are the greatest threat in the us to both bald and golden eagles\\n '\n",
    "\n",
    "# Capitalize the first character of every word using the 'title' method\n",
    "greatTweets = greatTweets.strip().capitalize()\n",
    "print(greatTweets)\n",
    "\n",
    "# Remove leading and trailing whitespace\n",
    "\n"
   ]
  },
  {
   "cell_type": "markdown",
   "metadata": {},
   "source": [
    "## Delete a variable\n",
    "\n",
    "* variables can be deleted using the `del` statement\n",
    "\n",
    "Example\n",
    "```\n",
    "player = 'Brad Marchant'\n",
    "# delete the variable player... nobody likes Brad!\n",
    "del player\n",
    "print(player)\n",
    "Traceback (most recent call last):\n",
    "  File \"<stdin>\", line 1, in <module>\n",
    "NameError: name 'player' is not defined\n",
    ">>>\n",
    "```\n",
    "\n",
    "<img src=\"https://www1.pictures.zimbio.com/gi/P+K+Subban+Boston+Bruins+v+Montreal+Canadiens+k-8luos4ehul.jpg\" width=\"500\">"
   ]
  },
  {
   "cell_type": "code",
   "execution_count": null,
   "metadata": {},
   "outputs": [],
   "source": [
    "player = 'Brad Marchant'\n",
    "# delete the variable player... nobody likes Brad!\n",
    "del player\n",
    "print(player)"
   ]
  },
  {
   "cell_type": "markdown",
   "execution_count": null,
   "metadata": {},
   "outputs": [],
   "source": [
    "# Topics not covered\n",
    "* unicode strings\n",
    "* all the different types of string methods\n",
    "* %s string formatting\n",
    "\n",
    "\n"
   ]
  }
 ]
}