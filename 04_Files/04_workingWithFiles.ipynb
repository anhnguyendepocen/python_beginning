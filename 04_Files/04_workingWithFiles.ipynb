{
 "nbformat": 4,
 "nbformat_minor": 2,
 "metadata": {
  "language_info": {
   "name": "python",
   "codemirror_mode": {
    "name": "ipython",
    "version": 3
   },
   "version": "3.8.1-final"
  },
  "orig_nbformat": 2,
  "file_extension": ".py",
  "mimetype": "text/x-python",
  "name": "python",
  "npconvert_exporter": "python",
  "pygments_lexer": "ipython3",
  "version": 3,
  "kernelspec": {
   "name": "python38164bitvenvvirtualenv2dd323a5846c4f688b958d3ff1e1ec66",
   "display_name": "Python 3.8.1 64-bit ('venv': virtualenv)"
  }
 },
 "cells": [
  {
   "cell_type": "markdown",
   "execution_count": null,
   "metadata": {},
   "outputs": [],
   "source": [
    "# Reading and Writing text files\n",
    "\n",
    "<img src=\"https://miro.medium.com/max/670/1*wPqqYFfNreXF4INrNhYkeQ.jpeg\" width=300>\n",
    "\n",
    "##  Steps: Reading from text files..\n",
    "* Create a file handle\n",
    "* Read from the file handle\n",
    "* Close the file handle\n",
    "\n",
    "## Example Reading"
   ]
  },
  {
   "cell_type": "code",
   "execution_count": 1,
   "metadata": {},
   "outputs": [
    {
     "name": "stdout",
     "output_type": "stream",
     "text": "id,name,arena,city,abbrev,teamName,location,inceptionYear,division,conference\n1,New Jersey Devils,Prudential Center,Newark,NJD,Devils,New Jersey,1982,Metropolitan,Eastern\n2,New York Islanders,Barclays Center,Brooklyn,NYI,Islanders,New York,1972,Metropolitan,Eastern\n3,New York Rangers,Madison Square Garden,New York,NYR,Rangers,New York,1926,Metropolitan,Eastern\n4,Philadelphia Flyers,Wells Fargo Center,Philadelphia,PHI,Flyers,Philadelphia,1967,Metropolitan,Eastern\n5,Pittsburgh Penguins,PPG Paints Arena,Pittsburgh,PIT,Penguins,Pittsburgh,1967,Metropolitan,Eastern\n6,Boston Bruins,TD Garden,Boston,BOS,Bruins,Boston,1924,Atlantic,Eastern\n7,Buffalo Sabres,KeyBank Center,Buffalo,BUF,Sabres,Buffalo,1970,Atlantic,Eastern\n8,MontrÃ©al Canadiens,Bell Centre,MontrÃ©al,MTL,Canadiens,MontrÃ©al,1909,Atlantic,Eastern\n9,Ottawa Senators,Canadian Tire Centre,Ottawa,OTT,Senators,Ottawa,1990,Atlantic,Eastern\n10,Toronto Maple Leafs,Scotiabank Arena,Toronto,TOR,Maple Leafs,Toronto,1917,Atlantic,Eastern\n12,Carolina Hurricanes,PNC Arena,Raleigh,CAR,Hurricanes,Carolina,1979,Metropolitan,Eastern\n13,Florida Panthers,BB&T Center,Sunrise,FLA,Panthers,Florida,1993,Atlantic,Eastern\n14,Tampa Bay Lightning,AMALIE Arena,Tampa,TBL,Lightning,Tampa Bay,1991,Atlantic,Eastern\n15,Washington Capitals,Capital One Arena,Washington,WSH,Capitals,Washington,1974,Metropolitan,Eastern\n16,Chicago Blackhawks,United Center,Chicago,CHI,Blackhawks,Chicago,1926,Central,Western\n17,Detroit Red Wings,Little Caesars Arena,Detroit,DET,Red Wings,Detroit,1926,Atlantic,Eastern\n18,Nashville Predators,Bridgestone Arena,Nashville,NSH,Predators,Nashville,1997,Central,Western\n19,St. Louis Blues,Enterprise Center,St. Louis,STL,Blues,St. Louis,1967,Central,Western\n20,Calgary Flames,Scotiabank Saddledome,Calgary,CGY,Flames,Calgary,1980,Pacific,Western\n21,Colorado Avalanche,Pepsi Center,Denver,COL,Avalanche,Colorado,1979,Central,Western\n22,Edmonton Oilers,Rogers Place,Edmonton,EDM,Oilers,Edmonton,1979,Pacific,Western\n23,Vancouver Canucks,Rogers Arena,Vancouver,VAN,Canucks,Vancouver,1970,Pacific,Western\n24,Anaheim Ducks,Honda Center,Anaheim,ANA,Ducks,Anaheim,1993,Pacific,Western\n25,Dallas Stars,American Airlines Center,Dallas,DAL,Stars,Dallas,1967,Central,Western\n26,Los Angeles Kings,STAPLES Center,Los Angeles,LAK,Kings,Los Angeles,1967,Pacific,Western\n28,San Jose Sharks,SAP Center at San Jose,San Jose,SJS,Sharks,San Jose,1990,Pacific,Western\n29,Columbus Blue Jackets,Nationwide Arena,Columbus,CBJ,Blue Jackets,Columbus,1997,Metropolitan,Eastern\n30,Minnesota Wild,Xcel Energy Center,St. Paul,MIN,Wild,Minnesota,1997,Central,Western\n52,Winnipeg Jets,Bell MTS Place,Winnipeg,WPG,Jets,Winnipeg,2011,Central,Western\n53,Arizona Coyotes,Gila River Arena,Glendale,ARI,Coyotes,Arizona,1979,Pacific,Western\n54,Vegas Golden Knights,T-Mobile Arena,Las Vegas,VGK,Golden Knights,Vegas,2016,Pacific,Western\n\n"
    }
   ],
   "source": [
    "filePath = '../data/teams.csv'\n",
    "fileHandle = open(filePath, 'r')\n",
    "# read the whole file into a single string\n",
    "fileContents = fileHandle.read()\n",
    "print(fileContents)"
   ]
  },
  {
   "cell_type": "markdown",
   "execution_count": null,
   "metadata": {},
   "outputs": [],
   "source": [
    "## Dealing with Unicode\n",
    "\n",
    "<img src=\"https://miro.medium.com/max/800/1*ITKH_QSt8SRJQguCiHAtMQ.png\" width=300>\n",
    "\n",
    "* [slides from pycascades on unicode](https://docs.google.com/presentation/d/17xwPZrnGo5xGUXf_HkxFUTAE2SPisHQd7LcRWyYCL6I/edit#slide=id.p)\n",
    "* [video from pycascades on unicode](https://www.youtube.com/watch?v=2U9EHYqc59Y)\n",
    "* Bottom line: Use **UTF-8**\n",
    "\n",
    "If you executed the code above you may have noticed that Montreal Canadians looked like: **MontrÃ©al Canadiens**\n",
    "\n",
    "## Reading a file with specified encoding\n",
    "\n",
    "**Note**: Will go over the `import` statement in more detail later."
   ]
  },
  {
   "cell_type": "code",
   "execution_count": 2,
   "metadata": {},
   "outputs": [
    {
     "name": "stdout",
     "output_type": "stream",
     "text": "id,name,arena,city,abbrev,teamName,location,inceptionYear,division,conference\n1,New Jersey Devils,Prudential Center,Newark,NJD,Devils,New Jersey,1982,Metropolitan,Eastern\n2,New York Islanders,Barclays Center,Brooklyn,NYI,Islanders,New York,1972,Metropolitan,Eastern\n3,New York Rangers,Madison Square Garden,New York,NYR,Rangers,New York,1926,Metropolitan,Eastern\n4,Philadelphia Flyers,Wells Fargo Center,Philadelphia,PHI,Flyers,Philadelphia,1967,Metropolitan,Eastern\n5,Pittsburgh Penguins,PPG Paints Arena,Pittsburgh,PIT,Penguins,Pittsburgh,1967,Metropolitan,Eastern\n6,Boston Bruins,TD Garden,Boston,BOS,Bruins,Boston,1924,Atlantic,Eastern\n7,Buffalo Sabres,KeyBank Center,Buffalo,BUF,Sabres,Buffalo,1970,Atlantic,Eastern\n8,Montréal Canadiens,Bell Centre,Montréal,MTL,Canadiens,Montréal,1909,Atlantic,Eastern\n9,Ottawa Senators,Canadian Tire Centre,Ottawa,OTT,Senators,Ottawa,1990,Atlantic,Eastern\n10,Toronto Maple Leafs,Scotiabank Arena,Toronto,TOR,Maple Leafs,Toronto,1917,Atlantic,Eastern\n12,Carolina Hurricanes,PNC Arena,Raleigh,CAR,Hurricanes,Carolina,1979,Metropolitan,Eastern\n13,Florida Panthers,BB&T Center,Sunrise,FLA,Panthers,Florida,1993,Atlantic,Eastern\n14,Tampa Bay Lightning,AMALIE Arena,Tampa,TBL,Lightning,Tampa Bay,1991,Atlantic,Eastern\n15,Washington Capitals,Capital One Arena,Washington,WSH,Capitals,Washington,1974,Metropolitan,Eastern\n16,Chicago Blackhawks,United Center,Chicago,CHI,Blackhawks,Chicago,1926,Central,Western\n17,Detroit Red Wings,Little Caesars Arena,Detroit,DET,Red Wings,Detroit,1926,Atlantic,Eastern\n18,Nashville Predators,Bridgestone Arena,Nashville,NSH,Predators,Nashville,1997,Central,Western\n19,St. Louis Blues,Enterprise Center,St. Louis,STL,Blues,St. Louis,1967,Central,Western\n20,Calgary Flames,Scotiabank Saddledome,Calgary,CGY,Flames,Calgary,1980,Pacific,Western\n21,Colorado Avalanche,Pepsi Center,Denver,COL,Avalanche,Colorado,1979,Central,Western\n22,Edmonton Oilers,Rogers Place,Edmonton,EDM,Oilers,Edmonton,1979,Pacific,Western\n23,Vancouver Canucks,Rogers Arena,Vancouver,VAN,Canucks,Vancouver,1970,Pacific,Western\n24,Anaheim Ducks,Honda Center,Anaheim,ANA,Ducks,Anaheim,1993,Pacific,Western\n25,Dallas Stars,American Airlines Center,Dallas,DAL,Stars,Dallas,1967,Central,Western\n26,Los Angeles Kings,STAPLES Center,Los Angeles,LAK,Kings,Los Angeles,1967,Pacific,Western\n28,San Jose Sharks,SAP Center at San Jose,San Jose,SJS,Sharks,San Jose,1990,Pacific,Western\n29,Columbus Blue Jackets,Nationwide Arena,Columbus,CBJ,Blue Jackets,Columbus,1997,Metropolitan,Eastern\n30,Minnesota Wild,Xcel Energy Center,St. Paul,MIN,Wild,Minnesota,1997,Central,Western\n52,Winnipeg Jets,Bell MTS Place,Winnipeg,WPG,Jets,Winnipeg,2011,Central,Western\n53,Arizona Coyotes,Gila River Arena,Glendale,ARI,Coyotes,Arizona,1979,Pacific,Western\n54,Vegas Golden Knights,T-Mobile Arena,Las Vegas,VGK,Golden Knights,Vegas,2016,Pacific,Western\n\n"
    }
   ],
   "source": [
    "import codecs\n",
    "filePath = '../data/teams.csv'\n",
    "fileHandle = codecs.open(filePath, 'r', 'utf-8')\n",
    "# read the whole file into a single string\n",
    "fileContents = fileHandle.read()\n",
    "print(fileContents)"
   ]
  },
  {
   "cell_type": "markdown",
   "execution_count": null,
   "metadata": {},
   "outputs": [],
   "source": [
    "## Writing Files\n",
    "\n",
    "<img src=\"https://thornleyfallis.com/wp-content/uploads/2016/08/fountain-pen-image.jpg\" width=300>\n",
    "\n",
    "* in the following example we will write to a file"
   ]
  },
  {
   "cell_type": "code",
   "execution_count": null,
   "metadata": {},
   "outputs": [],
   "source": [
    "# writing a line to a text file\n",
    "fh = open('../data/junk.txt', 'w')\n",
    "# notice the \\n character... that's a carriage return.\n",
    "fh.write(\"writing this line to the text file\\n\")\n",
    "fh.close()"
   ]
  },
  {
   "cell_type": "markdown",
   "execution_count": null,
   "metadata": {},
   "outputs": [],
   "source": [
    "## Using `with` operator\n",
    "\n",
    "<img src=\"https://contenthub-static.grammarly.com/blog/wp-content/uploads/2017/02/BEAR-WITH-ME-.jpg\" width=\"500\">\n",
    "\n",
    "*\"The with statement simplifies exception handling by encapsulating common\n",
    "preparation and cleanup tasks.\"*\n",
    "\n",
    "* puts the file operation in a code block\n",
    "* automatically calls `close()` for you\n",
    "\n",
    "## Example:"
   ]
  },
  {
   "cell_type": "code",
   "execution_count": null,
   "metadata": {},
   "outputs": [],
   "source": [
    "with open('../data/junk.txt', 'w') as fh:\n",
    "    fh.write(\"writing this line to the text file\\n\")"
   ]
  },
  {
   "cell_type": "markdown",
   "execution_count": null,
   "metadata": {},
   "outputs": [],
   "source": [
    "## Exercise:\n",
    "* create a function that recieves a file path\n",
    "* the function opens the file and...\n",
    "* iterates over every line in the file...\n",
    "* identify lines in the file that represent teams from the 'Central' division...\n",
    "* creates a new list for teams in the central division...\n",
    "* after all the central teams have been collected they are sorted...\n",
    "* returns the sorted list\n",
    "* call the function\n"
   ]
  },
  {
   "cell_type": "code",
   "execution_count": null,
   "metadata": {},
   "outputs": [],
   "source": [
    "# add code to open the file data/junk.txt\n",
    "# iterate over each line\n",
    "# split each line into list\n",
    "# create a new list with the teams in the  'Central' division\n"
   ]
  },
  {
   "cell_type": "markdown",
   "execution_count": null,
   "metadata": {},
   "outputs": [],
   "source": [
    "# File Paths in Python Scripts\n",
    "\n",
    "<img src=\"https://lh3.googleusercontent.com/bMoj2UYYUrnU-ulBae1CFAnnieD0GC1SIeEZg4KpPFOgO-bC-8C5VRlpxuf69uWYo26T0XGt9IkY1tVIsniq72GxXHfldqOtjZAKQdirIwvu3tmCQxqsi1JsskiigfTMVWV3hEywvgOw_jDuiOI_tefmKqqjBbGBwIozUt8l1gPWCjUif0593wzse_1QHZmsSYjcxhxACwi0q58tEglTcEF2AxgxOPauYn_WZP__JnriStSD-xaQw6uIXa0ZIXAHbLyPCle5jSBAuPjjFxS8gNjGyVbFxcAhhOpOgU30kv86kqoJI1Wbdqd-EAw2SwtxZvXH9KRV-QBtyJJAoA2VUvUX1oRqJtZ-eOpj3iHgwRYExDYkYUZSQwkj65eDZWD2I3689fGI0vz0m07bSGK8PoW7NoUjJ4_YZBP2LwE1EnxuYqXD5hxE-Bzo0Y2EOmR3mjOyPFsohX7H3wMT7T42PHhy666zLDSB6CDIqb6QNjaYexk0HlPgEFgIC5QYZwN55LXIbtNrE0eRygm-rvJpV-6EBxUK_c0AF3s1IuNeaYKoDwQqK_S368ZKt63Jrdr10LikXkC_dhJjY9EpJpd6sE8ZTg2VYEIwwH5ga380zuXHbahxbdBtvv26Ij80ZOSvv2oiY5QyUqpZMgG7hh1p7AKEhegyaSmMFM_aMbR2tby5ALi0orfqHlzgZPIq1whnPpWzWwFeuU2rXHpXmjtJJgfBVG9r-2zSwa2KZHsOgJwOUVzQ=w1267-h713-no\" width=\"500\">\n",
    "\n",
    "* frequently you want to construct file paths programatically.\n",
    "* add / join to path\n",
    "* get directory\n",
    "* get just file name from path\n",
    "\n",
    "**DO NOT** do this using string methods.\n",
    "\n",
    "**INSTEAD** use the python module [os.path](https://docs.python.org/3/library/os.path.html#module-os.path)\n",
    "\n",
    "## Commonly used methods:\n",
    "* [basename()](https://docs.python.org/3/library/os.path.html#os.path.basename) - gets just the file\n",
    "* [join()](https://docs.python.org/3/library/os.path.html#os.path.join) - join two paths together\n",
    "* [dirname()](https://docs.python.org/3/library/os.path.html#os.path.dirname) - gets the sub directory\n",
    "* [exists()](https://docs.python.org/3/library/os.path.html#os.path.exists) - does path exist\n",
    "* [split()](https://docs.python.org/3/library/os.path.html#os.path.split) - returns two parts the last path and the rest\n",
    "\n",
    "# Exercise / Demo:\n",
    "\n"
   ]
  },
  {
   "cell_type": "code",
   "execution_count": null,
   "metadata": {},
   "outputs": [],
   "source": [
    "import os.path\n",
    "startPath = r'C:\\Kevin\\proj\\python_training'\n",
    "\n",
    "# add a directory to the path:\n",
    "path2Lesson1Dir = os.path.join(startPath, '01_ToolOrientation')\n",
    "print(f\"path2Lesson1Dir {path2Lesson1Dir}\")\n",
    "\n",
    "# does the directory exist\n",
    "if os.path.exists(path2Lesson1Dir):\n",
    "    print(f'path2Lesson1Dir: {path2Lesson1Dir} exists')\n",
    "else:\n",
    "    print(f'path2Lesson1Dir: {path2Lesson1Dir} DOES NOT exist')\n",
    "\n",
    "# Create this path to a file\n",
    "# C:\\Kevin\\proj\\python_training\\01_ToolOrientation\\hello.py\n",
    "helloPyPath = os.path.join(startPath, '01_ToolOrientation','hello.py')\n",
    "print(f\"helloPyPath: {helloPyPath}\")\n",
    "\n",
    "# get just hello.py from the path\n",
    "justHelloPy = os.path.basename(helloPyPath)\n",
    "print(f\"just the hello.py file: {justHelloPy}\")\n",
    "\n",
    "# just the directory that from the fullpath to hello.py\n",
    "helloDir = os.path.dirname(helloPyPath)\n",
    "print(f'the enclosing directory for hello.py file is: {helloDir}')\n",
    "\n",
    "# doing the same thing in one line\n",
    "helloDir, justHelloPy = os.path.split(helloPyPath)\n",
    "print(f\"hello dir: {helloDir}\")\n",
    "print(f\"hello file: {justHelloPy}\")\n"
   ]
  },
  {
   "cell_type": "markdown",
   "execution_count": null,
   "metadata": {},
   "outputs": [],
   "source": [
    "## Pathlib (newer alternative to os.path)\n",
    "\n",
    "<img src=\"https://upload.wikimedia.org/wikipedia/en/thumb/3/36/Alttentacleslogo.jpg/180px-Alttentacleslogo.jpg\" width=150>\n",
    "\n",
    "* seems to be the way things are headed... \n",
    "* more complex to deal with thans os.path\n",
    "* [Docs for pathlib](https://docs.python.org/3/library/pathlib.html)\n",
    "* [a Zealot advocates for pathlib](https://treyhunner.com/2018/12/why-you-should-be-using-pathlib/)"
   ]
  },
  {
   "cell_type": "markdown",
   "execution_count": null,
   "metadata": {},
   "outputs": [],
   "source": [
    "# File Management (os and shutil)\n",
    "\n",
    "* `os.path` allows you to programatically work with paths.\n",
    "* we will now look at how you can manage files using python\n",
    "\n",
    "# [os module](https://docs.python.org/3/library/os.html)\n",
    "\n",
    "<img src=\"https://i.pinimg.com/originals/7c/69/c0/7c69c00c727280d39018699c9345c329.jpg\" width=200>\n",
    "\n",
    "The description on from official docs:\n",
    "\n",
    "*This module provides a portable way of using operating system dependent functionality. If you just want to read or write a file see [open()](https://docs.python.org/3/library/functions.html#open), if you want to manipulate paths, see the [os.path](https://docs.python.org/3/library/os.path.html#module-os.path) module, and if you want to read all the lines in all the files on the command line see the fileinput module. For creating temporary files and directories see the [tempfile](https://docs.python.org/3/library/tempfile.html#module-tempfile) module, and for high-level file and directory handling see the [shutil](https://docs.python.org/3/library/shutil.html#module-shutil) module.*\n",
    "\n",
    "## Useful os module functionality\n",
    "\n",
    "What follows is a very small subset of the functionality in the os module\n",
    "\n",
    "* [os.mkdir](https://docs.python.org/3/library/os.html#os.mkdir) - create directory, subdir must exist\n",
    "* [os.makedirs](https://docs.python.org/3/library/os.html#os.makedirs) - create the full path, including sub directories\n",
    "* [os.remove](https://docs.python.org/3/library/os.html#os.remove) - delete a file\n",
    "* [os.rmdir](https://docs.python.org/3/library/os.html#os.rmdir) - remove a single directory\n",
    "* [os.environ](https://docs.python.org/3/library/os.html#os.environ): access to environment variables \n",
    "* [os.walk](https://docs.python.org/3/library/os.html#os.walk): recursively navigate a filesystem\n",
    "\n",
    "### Exercise / Demo\n",
    "\n",
    "### mkdir / makedirs / remove / rmdir"
   ]
  },
  {
   "cell_type": "code",
   "execution_count": 1,
   "metadata": {},
   "outputs": [
    {
     "name": "stdout",
     "output_type": "stream",
     "text": "full path to dir to create: c:\\Kevin\\proj\\python_training\\04_Files\\junkdir\ncreated single dir: c:\\Kevin\\proj\\python_training\\04_Files\\junkdir\ncreated a bunch of sub dirs..: c:\\Kevin\\proj\\python_training\\04_Files\\junkdir\\somedir\\anotherdir\\andAnother\ncreated the file: c:\\Kevin\\proj\\python_training\\04_Files\\junkdir\\somedir\\anotherdir\\andAnother\\somefile.txt\ndelete the file: c:\\Kevin\\proj\\python_training\\04_Files\\junkdir\\somedir\\anotherdir\\andAnother\\somefile.txt\ndeleted the directory: c:\\Kevin\\proj\\python_training\\04_Files\\junkdir\\somedir\\anotherdir\\andAnother\n"
    },
    {
     "ename": "OSError",
     "evalue": "[WinError 145] The directory is not empty: 'c:\\\\Kevin\\\\proj\\\\python_training\\\\04_Files\\\\junkdir'",
     "output_type": "error",
     "traceback": [
      "\u001b[1;31m---------------------------------------------------------------------------\u001b[0m",
      "\u001b[1;31mOSError\u001b[0m                                   Traceback (most recent call last)",
      "\u001b[1;32m<ipython-input-1-e00003eac8a2>\u001b[0m in \u001b[0;36m<module>\u001b[1;34m\u001b[0m\n\u001b[0;32m     32\u001b[0m \u001b[1;31m# delete all the dirs:\u001b[0m\u001b[1;33m\u001b[0m\u001b[1;33m\u001b[0m\u001b[1;33m\u001b[0m\u001b[0m\n\u001b[0;32m     33\u001b[0m \u001b[1;32mif\u001b[0m \u001b[0mos\u001b[0m\u001b[1;33m.\u001b[0m\u001b[0mpath\u001b[0m\u001b[1;33m.\u001b[0m\u001b[0mexists\u001b[0m\u001b[1;33m(\u001b[0m\u001b[0mnewDir\u001b[0m\u001b[1;33m)\u001b[0m\u001b[1;33m:\u001b[0m\u001b[1;33m\u001b[0m\u001b[1;33m\u001b[0m\u001b[0m\n\u001b[1;32m---> 34\u001b[1;33m     \u001b[0mos\u001b[0m\u001b[1;33m.\u001b[0m\u001b[0mrmdir\u001b[0m\u001b[1;33m(\u001b[0m\u001b[0mnewDir\u001b[0m\u001b[1;33m)\u001b[0m\u001b[1;33m\u001b[0m\u001b[1;33m\u001b[0m\u001b[0m\n\u001b[0m\u001b[0;32m     35\u001b[0m     \u001b[0mprint\u001b[0m\u001b[1;33m(\u001b[0m\u001b[1;34mf\"deleted the dir and subdirs {newDir}\"\u001b[0m\u001b[1;33m)\u001b[0m\u001b[1;33m\u001b[0m\u001b[1;33m\u001b[0m\u001b[0m\n\u001b[0;32m     36\u001b[0m     \u001b[1;31m# ERROR!\u001b[0m\u001b[1;33m\u001b[0m\u001b[1;33m\u001b[0m\u001b[1;33m\u001b[0m\u001b[0m\n",
      "\u001b[1;31mOSError\u001b[0m: [WinError 145] The directory is not empty: 'c:\\\\Kevin\\\\proj\\\\python_training\\\\04_Files\\\\junkdir'"
     ]
    }
   ],
   "source": [
    "import os\n",
    "# create a directory path\n",
    "newDir = os.path.join('.', 'junkdir')\n",
    "newDir = os.path.abspath(newDir)\n",
    "print(f'full path to dir to create: {newDir}')\n",
    "if not os.path.exists(newDir):\n",
    "    os.mkdir(newDir)\n",
    "    print(f\"created single dir: {newDir}\")\n",
    "\n",
    "# add a bunch more paths to newDir\n",
    "newDirSubPaths = os.path.join(newDir, 'somedir', 'anotherdir', 'andAnother')\n",
    "if not os.path.exists(newDirSubPaths):\n",
    "    os.makedirs(newDirSubPaths)\n",
    "    print(f\"created a bunch of sub dirs..: {newDirSubPaths}\")\n",
    "\n",
    "# create an empty file\n",
    "subDirWithFile = os.path.join(newDirSubPaths, 'somefile.txt')\n",
    "with open(subDirWithFile, 'w') as fh:\n",
    "    fh.write(\"add one line to the file\\n\")\n",
    "    print(f'created the file: {subDirWithFile}')\n",
    "\n",
    "# use os.remove to delete the file\n",
    "if os.path.exists(subDirWithFile):\n",
    "    os.remove(subDirWithFile)\n",
    "    print(f\"delete the file: {subDirWithFile}\")\n",
    "\n",
    "# delete the dir andAnother\n",
    "if os.path.exists(newDirSubPaths):\n",
    "    os.rmdir(newDirSubPaths)\n",
    "    print(f\"deleted the directory: {newDirSubPaths}\")\n",
    "\n",
    "# delete all the dirs:\n",
    "if os.path.exists(newDir):\n",
    "    os.rmdir(newDir)\n",
    "    print(f\"deleted the dir and subdirs {newDir}\")\n",
    "    # ERROR!"
   ]
  },
  {
   "cell_type": "markdown",
   "execution_count": null,
   "metadata": {},
   "outputs": [],
   "source": [
    "### Walk a file system\n",
    "\n",
    "#### Example:"
   ]
  },
  {
   "cell_type": "code",
   "execution_count": 2,
   "metadata": {},
   "outputs": [
    {
     "name": "stdout",
     "output_type": "stream",
     "text": "rootdir: ., has 4 and 1 sub directories\nrootdir: .\\junkdir, has 0 and 1 sub directories\nrootdir: .\\junkdir\\somedir, has 0 and 1 sub directories\nrootdir: .\\junkdir\\somedir\\anotherdir, has 0 and 0 sub directories\n"
    }
   ],
   "source": [
    "import os\n",
    "for root, dirs, files in os.walk(\".\"):\n",
    "    if 'venv' not in root and '.git' not in root:\n",
    "        print(f'rootdir: {root}, has {len(files)} and {len(dirs)} sub directories')\n"
   ]
  },
  {
   "cell_type": "markdown",
   "execution_count": null,
   "metadata": {},
   "outputs": [],
   "source": [
    "### os.environ and os.uname\n",
    "\n",
    "* a common security practice is to put secrets into environment variables and have code get them from there.\n",
    "* setting up VSCode so it automatically populates env vars."
   ]
  },
  {
   "cell_type": "code",
   "execution_count": 3,
   "metadata": {},
   "outputs": [
    {
     "name": "stdout",
     "output_type": "stream",
     "text": "env var: VBOX_MSI_INSTALL_PATH = C:\\Program Files\\Oracle\\VirtualBox\\\nenv var: VERBOSE_LOGGING = true\nenv var: VIRTUAL_ENV = C:\\Kevin\\proj\\python_training\\venv\nenv var: VSCODE_CLI = 1\n"
    }
   ],
   "source": [
    "import os\n",
    "# print environment variables\n",
    "cnt = 0\n",
    "for envName in os.environ:\n",
    "    # filter to env names that start with v to reduce output, only print first 3\n",
    "    if envName[0].upper() == 'V' and cnt < 4:\n",
    "        print(f\"env var: {envName} = {os.environ[envName]}\")\n",
    "        cnt +=1 "
   ]
  },
  {
   "cell_type": "markdown",
   "execution_count": null,
   "metadata": {},
   "outputs": [],
   "source": [
    "# shutil - High level os functions\n",
    "\n",
    "<img src=\"https://lh3.googleusercontent.com/it-6sJvplgxuKN5YpKaSWCn58N1u44fsBsyE9qPWd4lg6ti6hkV7EcthBfcG-5uwSv3W3CjToFa4CCa-EA_OW8jrNE3CP-BI3tMejLGjcRy4g866KOMmdsQNkPs8uJzV19ra9BVqFZQr5HY4lL5EQsWOs4up66j0POo6T7SFyt65Pwh4-fJlgo67Vvk2XOKjukJKwGZ1DrjkIY8IBhlm3npEJWrMP4Y6ShWocpM1equDwmG0Zxo5ScBb5UezG2e1MF9OM0VHm4v-WSUB0LlKhFsaB8VHboZtRJAs_MttwoyxUumrnZFxuL8PFugeEcp1rWVLCiAbWtRUeNViF65BRK0Q1ypVaDPGTttDfG6kjgJQ9eGdOdIyQFxZW3oY142emfRRWXhvOaAAChLSGOk7mMKVDaIl01kIIaCB8oVMDEyvvhF22BL6vvmLtIupQX5kTo-nhxZD_BJN9RxUUc8oZpPXw_zVDrJmjLB0OeZEJp76aHxISe6QB23bjp1EleHKObVw0kPT9n3Qvrr1g1cr47zt1TI-DIxhAQr2w5EtDO0OPT6H_D_M0lcsMaxSZrkj1Gmcm-DzjyApCX-b1cb1lZDY6z3rsoeuf6sxSKtSZoA9CDrkgL6HBhf_8UyMMF2Ioyor4V9yTpL-DWJxJm0V5aKUo-Ydv8jU_dSjpikVNpLFgxq5_ovpWiGIcNJH2da0I8LMDnW8QcNX6OoXuQ0Qs-R0495_kw_cHKIVSiJjj7t2I_gG=w1106-h829-no\" width=300>\n",
    "\n",
    "As the name would suggest shutil give you the type of functionality you would expect to get in a shell\n",
    "\n",
    "* [shutil docs](https://docs.python.org/3/library/shutil.html#module-shutil)\n",
    "\n",
    "## commonly used shutil functions:\n",
    "* [copytree()](https://docs.python.org/3/library/shutil.html#shutil.copytree)\n",
    "* [rmtree()](https://docs.python.org/3/library/shutil.html#shutil.rmtree)\n",
    "* [move()](https://docs.python.org/3/library/shutil.html#shutil.move)\n",
    "\n",
    "**WARNING:** *you very quickly delete a lot of potentially useful data with this module... use with caution... Probably print before you delete.*\n",
    "\n",
    "## shutil examples / demo:"
   ]
  },
  {
   "cell_type": "code",
   "execution_count": null,
   "metadata": {},
   "outputs": [],
   "source": [
    "import shutil\n",
    "\n",
    "# defining the directory path and making sure it exists.\n",
    "newDir = os.path.join('.', 'junkdir')\n",
    "newDir = os.path.abspath(newDir)\n",
    "newDirSubPaths = os.path.join(newDir, 'somedir', 'anotherdir', 'andAnother')\n",
    "if not os.path.exists(newDirSubPaths):\n",
    "    os.makedirs(newDirSubPaths)\n",
    "    print(f\"created a bunch of sub dirs..: {newDirSubPaths}\")\n",
    "\n",
    "# the magic of shutil to delete the entire dir\n",
    "print(f'newDir is {newDir}')\n",
    "if os.path.exists(newDir):\n",
    "    shutil.rmtree(newDir)\n",
    "    print(f\"just deleted the whole tree and everything in it: {newDir}\")"
   ]
  },
  {
   "cell_type": "markdown",
   "execution_count": null,
   "metadata": {},
   "outputs": [],
   "source": [
    "# Reading / Writing CSV files\n",
    "\n",
    "<img src=\"https://percipient.co/wp-content/uploads/2015/02/csv-icon.png\" width=150 style=\"background-color:white;padding:5px;\">\n",
    "\n",
    "* Writing CSV files can be tricky...\n",
    "* fields may have  , characters that you are expecting to use as a delimiter\n",
    "* You may want to quote text fields but not number fields\n",
    "* the builtin csv module can help with these issues.\n",
    "\n",
    "## Docs on CSV module.\n",
    "* [CSV module documentation](https://docs.python.org/3/library/csv.html)\n",
    "* [decent tutorial on getting started with CSV module](https://pymotw.com/2/csv/)\n",
    "\n",
    "**Note:** *not covering in this course but you should be aware of it*\n"
   ]
  }
 ]
}