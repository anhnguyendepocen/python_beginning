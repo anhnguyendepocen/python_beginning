{
 "nbformat": 4,
 "nbformat_minor": 2,
 "metadata": {
  "language_info": {
   "name": "python",
   "codemirror_mode": {
    "name": "ipython",
    "version": 3
   }
  },
  "orig_nbformat": 2,
  "file_extension": ".py",
  "mimetype": "text/x-python",
  "name": "python",
  "npconvert_exporter": "python",
  "pygments_lexer": "ipython3",
  "version": 3
 },
 "cells": [
  {
   "cell_type": "markdown",
   "metadata": {},
   "source": [
    "# Introduction\n",
    "\n",
    "* This lesson is really an overview of topics that you should invest time into going forward.\n",
    "* going to give you an overview of what they are, and why they are important\n",
    "* not going into the how on any of them.\n",
    "\n",
    "# Topic list\n",
    "* pypi (installing dependencies properly (virtualenv), \n",
    "installing elsewhere)\n",
    "* requirements files, other ways (pipenv, conda)\n",
    "* Utilities (code linting, debugging)\n",
    "* code formatting\n",
    "* really basic intro to git\n",
    "* logging?  maybe?\n"
   ]
  },
  {
   "cell_type": "markdown",
   "metadata": {},
   "source": [
    "# pypi and Virtualenv\n",
    "\n",
    "## Virtualenv\n",
    "* creates an isoloated / project specific place to install third party dependencies\n",
    "* Allows two projects on the same computer to use:\n",
    "    * differing sets of dependencies\n",
    "    * different versions of the same dependencies\n",
    "* we configured a virtualenv called `venv` in the first lesson\n",
    "\n"
   ]
  },
  {
   "cell_type": "markdown",
   "metadata": {},
   "source": [
    "# Pypi: https://pypi.org/\n",
    "\n",
    "* a place where you can find useful third party modules\n",
    "* You can also add your own modules, but to do so requires some extra steps to \"package\" them.\n",
    "* Packaging your modules for re-use is a best practice, vs retrieving from source code repositories\n",
    "\n",
    "## Installing pypi modules: pip\n",
    "* pip is the universal tool for installing pypi packages\n",
    "\n",
    "## other packaging tools\n",
    "* conda and anaconda are similar to pip, but do things differently than pip\n",
    "* pipenv: a more modern approach to pip... combines virtualenv and pip into one command.\n",
    "\n",
    "## Do now\n",
    "\n",
    "* with all your projects that have third party dependencies.  \n",
    "* define dependencies in a `requirements.txt` file.  Include versions\n",
    "* do NOT include third party code with your code when packaging.\n",
    "\n",
    "\n",
    "### example:\n",
    "```\n",
    "requests>=2.1.0\n",
    "ckanapi==4.3\n",
    "black==19.10b0\n",
    "pylint==2.4.4\n",
    "```"
   ]
  },
  {
   "cell_type": "markdown",
   "metadata": {},
   "source": [
    "# linting / formatting / code quality assessement\n",
    "\n",
    "## Getting started\n",
    "* strongly recommend setting up pylint\n",
    "\n",
    "## pylint - \n",
    "* Like an automated tutor telling you when you are doing things incorrectly.\n",
    "* can be pretty easily integrated into vscode or almost any python ide.\n",
    "\n",
    "## prospector\n",
    "* Ive dabbled a bit with this, combines linters with code quality assessement.\n",
    "* integrates nicely with VsCode.\n",
    "\n",
    "# Automated formatting\n",
    "* I've been using black!  Works well, doesn't do everyting.\n",
    "* integrates nicely with vscode.\n",
    "\n",
    "\n",
    "\n",
    "\n",
    "\n"
   ]
  },
  {
   "cell_type": "markdown",
   "metadata": {},
   "source": [
    "# Python logging\n",
    "\n",
    "- https://realpython.com/python-logging/\n",
    "\n",
    "## Advantages of logging\n",
    "* after you have finished the development of your script you can simply change the log level\n",
    "* if you used print statements you have much less control over the output.\n",
    "* logs can be diverted to stdout (like print), or ... to files, to web services, to anywhere\n",
    "* log messages can go to multiple locations\n",
    "* You control message metadata like:\n",
    "   - when \n",
    "   - what file the line originated from \n",
    "   - what line number in that file\n",
    "   - etc.\n",
    "\n",
    "* depending on how you configure you can set different log levels by \n",
    "   - file\n",
    "   - by class\n",
    "   - by whole app.\n",
    "\n",
    "* don't have time to go into logging in this class but want you to be aware of it.\n"
   ]
  },
  {
   "cell_type": "markdown",
   "metadata": {},
   "source": [
    "# GIT\n",
    "\n",
    "* use this as outline for lesson\n",
    "https://rachelcarmena.github.io/2018/12/12/how-to-teach-git.html\n",
    "\n",
    "* understand git conceptually: https://www.sbf5.com/~cduan/technical/git/"
   ]
  }
 ]
}