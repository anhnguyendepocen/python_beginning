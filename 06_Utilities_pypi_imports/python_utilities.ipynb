{
 "nbformat": 4,
 "nbformat_minor": 2,
 "metadata": {
  "language_info": {
   "name": "python",
   "codemirror_mode": {
    "name": "ipython",
    "version": 3
   }
  },
  "orig_nbformat": 2,
  "file_extension": ".py",
  "mimetype": "text/x-python",
  "name": "python",
  "npconvert_exporter": "python",
  "pygments_lexer": "ipython3",
  "version": 3
 },
 "cells": [
  {
   "cell_type": "markdown",
   "metadata": {},
   "source": [
    "# Introduction\n",
    "* Utilities (code linting, debugging)\n",
    "* logging?  maybe?\n",
    "* pypi (installing dependencies properly (virtualenv), installing elsewhere)\n",
    "* where python looks for imports\n",
    "* code formatting\n"
   ]
  }
 ]
}